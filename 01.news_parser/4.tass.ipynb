{
 "cells": [
  {
   "cell_type": "markdown",
   "metadata": {},
   "source": [
    "# Tass\n"
   ]
  },
  {
   "cell_type": "code",
   "execution_count": 1,
   "metadata": {},
   "outputs": [],
   "source": [
    "import requests\n",
    "import numpy as np\n",
    "import datetime\n",
    "import re\n",
    "from bs4 import BeautifulSoup\n",
    "\n",
    "from fake_useragent import UserAgent\n",
    "\n",
    "import time\n",
    "import datetime\n",
    "import pandas as pd\n",
    "import pickle\n",
    "import time\n",
    "\n",
    "from tqdm import tqdm\n",
    "from joblib import Parallel, delayed\n",
    "\n",
    "from tqdm import tqdm"
   ]
  },
  {
   "cell_type": "code",
   "execution_count": 2,
   "metadata": {},
   "outputs": [],
   "source": [
    "from multiprocessing.pool import ThreadPool\n",
    "\n",
    "def Separator(vect, part):\n",
    "    n = len(vect)\n",
    "    vec_parts = [round(n/part)*i for i in range(part)]\n",
    "    vec_parts.append(n)\n",
    "    out = [vect[vec_parts[i]:vec_parts[i+1]] for i in range(part)]\n",
    "    return(out)\n",
    "\n",
    "def Map(vect, parser_function):\n",
    "    out = [parser_function(item) for item in vect]\n",
    "    return(out)\n",
    "\n",
    "def Reduce(l):\n",
    "    ll = [ ]\n",
    "    for item in l:\n",
    "        ll.extend(item)\n",
    "    return(ll)\n",
    "\n",
    "def MRDownloader(what, parts, parser_function):\n",
    "    separatorlist = Separator(what, parts)\n",
    "    def Mp(what):\n",
    "        return Map(what, parser_function=parser_function)\n",
    "\n",
    "    pool = ThreadPool(parts)\n",
    "    l = pool.map(Mp, separatorlist)\n",
    "\n",
    "    itog = Reduce(l)\n",
    "    return(itog)    "
   ]
  },
  {
   "cell_type": "markdown",
   "metadata": {},
   "source": [
    "# 1. Download hrefs"
   ]
  },
  {
   "cell_type": "code",
   "execution_count": null,
   "metadata": {},
   "outputs": [],
   "source": [
    "def tass_lenta(before,limit=200):\n",
    "    mainpage = 'http://tass.ru/api/news/lenta?limit='+str(limit)+'&before='+str(before)\n",
    "    response = requests.get(mainpage)\n",
    "    dic = response.json()\n",
    "    cur_news = [ ]\n",
    "    df = dic['articles']\n",
    "    for item in df:\n",
    "        try:\n",
    "            new = { }\n",
    "            new['title'] = item['title']\n",
    "            new['category'] = item['section']['title']\n",
    "            new['href'] = item['url']\n",
    "            new['date'] = datetime.datetime.fromtimestamp(int(item['time'])).strftime('%Y-%m-%d %H:%M:%S')\n",
    "            new['uci_time'] = int(item['time'])\n",
    "            cur_news.append(new)\n",
    "        except:\n",
    "            print('Error! \\n',item, '\\n')\n",
    "    return cur_news"
   ]
  },
  {
   "cell_type": "code",
   "execution_count": null,
   "metadata": {},
   "outputs": [],
   "source": [
    "'1514764790'   # 31 декабря 2017 года 23:59:59\n",
    "'1483228799'   # 2016 \n",
    "'1451606399'   # 2015\n",
    "'1420070399'   # 2014\n",
    "'1388534399'   # 2013\n",
    "'1356998399'   # 2012\n",
    "'1325375999'   # 2011\n",
    "'1293839999'   # 2010\n",
    "'1262303999'   # 2009\n",
    "'1230767999'   # 2008 "
   ]
  },
  {
   "cell_type": "code",
   "execution_count": null,
   "metadata": {},
   "outputs": [],
   "source": [
    "# tass_news = [ ]\n",
    "\n",
    "# before = 999999999999\n",
    "\n",
    "for i in tqdm(range(100000)):\n",
    "    current_news = tass_lenta(before)\n",
    "    before = current_news[-1]['uci_time']\n",
    "    \n",
    "    tass_news.extend(current_news)\n",
    "    if before < 1514674664:\n",
    "        break "
   ]
  },
  {
   "cell_type": "code",
   "execution_count": null,
   "metadata": {},
   "outputs": [],
   "source": [
    "before"
   ]
  },
  {
   "cell_type": "code",
   "execution_count": null,
   "metadata": {},
   "outputs": [],
   "source": [
    "len(tass_news)"
   ]
  },
  {
   "cell_type": "code",
   "execution_count": null,
   "metadata": {},
   "outputs": [],
   "source": [
    "tass_news2 = [item for item in tass_news if item['date'].split('-')[0] == '2020']\n",
    "len(tass_news2)"
   ]
  },
  {
   "cell_type": "code",
   "execution_count": null,
   "metadata": {},
   "outputs": [],
   "source": [
    "tass_news3 = [item for item in tass_news2 if item['date'].split('-')[1] in ['06', '07', '08', '09', '10', '11']]\n",
    "len(tass_news3)"
   ]
  },
  {
   "cell_type": "code",
   "execution_count": null,
   "metadata": {},
   "outputs": [],
   "source": [
    "tass_news = tass_news3"
   ]
  },
  {
   "cell_type": "code",
   "execution_count": null,
   "metadata": {},
   "outputs": [],
   "source": [
    "print('В списке сейчас: ', len(tass_news))\n",
    "df = pd.DataFrame(tass_news)\n",
    "print(df.shape)\n",
    "print('Без дубликатов: ', len(set(df.href)))\n",
    "print(df.drop_duplicates().shape)\n",
    "\n",
    "with open('news_data/tass_titles_new.pickle', 'wb') as f:\n",
    "      pickle.dump(tass_news, f)\n",
    "\n",
    "df.tail()"
   ]
  },
  {
   "cell_type": "markdown",
   "metadata": {},
   "source": [
    "``` \n",
    "   Что ещё можно достать нахаляву из df \n",
    "   {'audio': False,   'color': '2',   'flash': False,   'id': '4070830',\n",
    "   'is_breaking_news': False,  'is_online': False,   'live_text': False,\n",
    "   'marked': False,  'photos': False,  'search_queries': None,\n",
    "   'section': {'id': '25', 'title': 'Экономика и бизнес', 'url': '/ekonomika'},\n",
    "   'show_at_common_feed': True,  'show_at_section_feed': True, 'slideshow': False\n",
    "   'time': '1488624568',  'title': 'Глава ВТБ: курс доллара к концу года может достигнуть 61-62 рублей',\n",
    "   'topics': None,  'url': '/ekonomika/4070830', 'video': False}, \n",
    "```"
   ]
  },
  {
   "cell_type": "markdown",
   "metadata": {},
   "source": [
    "# 2. Download news"
   ]
  },
  {
   "cell_type": "code",
   "execution_count": 3,
   "metadata": {},
   "outputs": [
    {
     "data": {
      "text/plain": [
       "47240"
      ]
     },
     "execution_count": 3,
     "metadata": {},
     "output_type": "execute_result"
    }
   ],
   "source": [
    "with open('news_data/tass_titles_new.pickle', 'rb') as f:\n",
    "    tass_titles = pickle.load(f)\n",
    "    \n",
    "len(tass_titles)"
   ]
  },
  {
   "cell_type": "code",
   "execution_count": 4,
   "metadata": {},
   "outputs": [
    {
     "data": {
      "text/plain": [
       "{'title': 'Полиция Украины получила восемь сообщений о минировании избирательных участков',\n",
       " 'category': 'Международная панорама',\n",
       " 'href': '/mezhdunarodnaya-panorama/9812053',\n",
       " 'date': '2020-10-25 17:45:06',\n",
       " 'uci_time': 1603637106,\n",
       " 'text': 'КИЕВ, 25 октября. /ТАСС/. Национальная полиция Украины получила в воскресенье восемь сообщений о минировании избирательных участков, которые оказались ложными. Об этом сообщил на брифинге глава Нацполиции Игорь Клименко.\\n\"На сегодняшний день нас \"минировали\" уже восемь раз. Национальная полиция не останавливала процессы волеизъявления, очень быстро и оперативно проверила эти факты, они оказались фейками. Мы сейчас устанавливаем, кто звонил, с какой целью\", - сказал Клименко.\\nОн отметил ряд нарушений на избирательных участках. \"Кандидаты на должности местных депутатов или мэров городов распространяют антисептики, ручки и другую продукцию с логотипами того или иного кандидата. Эти факты мы также жестко и быстро пресекаем\", - подчеркнул Клименко.\\nПо данным полиции, в Киеве дежурит 12 групп взрывотехников и 100 карет скорой помощи из-за возможного минирования избирательных участков и территории города.\\nВ воскресенье на Украине проходит голосование в органы местного самоуправления. Избирательные участки работают по всей стране, кроме неподконтрольной Киеву части Донбасса и нескольких районов, прилегающих к линии соприкосновения. Украинцам предстоит избрать депутатов 22 областных советов, 381 городского совета, 136 районных советов, более 1 тыс. поселковых советов, а также мэров большинства украинских городов, глав сел и поселков. Голосование завершится в 20:00 (21:00 мск).',\n",
       " 'snippet': 'Все они оказались ложными, сообщил на брифинге глава Нацполиции Игорь Клименко'}"
      ]
     },
     "execution_count": 4,
     "metadata": {},
     "output_type": "execute_result"
    }
   ],
   "source": [
    "def page_content(url):\n",
    "    response = requests.get(url)\n",
    "    html = response.content\n",
    "    soup = BeautifulSoup(html,\"lxml\")\n",
    "\n",
    "    vvv = soup.findAll(\"div\", { \"class\" : \"news\" })[0]\n",
    "    snippet = vvv.find_all(\"div\", {\"class\": \"news-header__lead\"})[0].text\n",
    "    text = vvv.find_all(\"div\", {\"class\": \"text-content\"})[0].text\n",
    "    return text, snippet\n",
    "\n",
    "def get_tass_news(item_from_vect):\n",
    "    url = \"http://tass.ru\" + item_from_vect['href']\n",
    "    try:\n",
    "        text, snippet = page_content(url)\n",
    "        item_from_vect['text'] = text.strip()\n",
    "        item_from_vect['snippet'] = snippet.strip()\n",
    "        return item_from_vect\n",
    "    except:\n",
    "        print(url)\n",
    "        return{ }\n",
    "\n",
    "get_tass_news(tass_titles[0])"
   ]
  },
  {
   "cell_type": "code",
   "execution_count": 5,
   "metadata": {},
   "outputs": [],
   "source": [
    "# itog_titles = [item for item in tass_titles if item['date'][:4] == \"2020\"]\n",
    "# len(itog_titles)\n",
    "itog_titles = tass_titles"
   ]
  },
  {
   "cell_type": "code",
   "execution_count": 6,
   "metadata": {},
   "outputs": [],
   "source": [
    "def Separator(vect, part):\n",
    "    n = len(vect)\n",
    "    vec_parts = [round(n/part)*i for i in range(part)]\n",
    "    vec_parts.append(n)\n",
    "    out = [vect[vec_parts[i]:vec_parts[i+1]] for i in range(part)]\n",
    "    return(out)"
   ]
  },
  {
   "cell_type": "code",
   "execution_count": 8,
   "metadata": {},
   "outputs": [],
   "source": [
    "i = 0\n",
    "\n",
    "x_batch = Separator(itog_titles, 500)"
   ]
  },
  {
   "cell_type": "code",
   "execution_count": 19,
   "metadata": {},
   "outputs": [
    {
     "name": "stderr",
     "output_type": "stream",
     "text": [
      "  1%|          | 1/116 [01:16<2:26:57, 76.67s/it]"
     ]
    },
    {
     "name": "stdout",
     "output_type": "stream",
     "text": [
      "Скачал батч номер 384\n"
     ]
    },
    {
     "name": "stderr",
     "output_type": "stream",
     "text": [
      "\r",
      "  2%|▏         | 2/116 [01:41<1:56:03, 61.09s/it]"
     ]
    },
    {
     "name": "stdout",
     "output_type": "stream",
     "text": [
      "Скачал батч номер 385\n"
     ]
    },
    {
     "name": "stderr",
     "output_type": "stream",
     "text": [
      "\r",
      "  3%|▎         | 3/116 [02:39<1:53:38, 60.34s/it]"
     ]
    },
    {
     "name": "stdout",
     "output_type": "stream",
     "text": [
      "Скачал батч номер 386\n"
     ]
    },
    {
     "name": "stderr",
     "output_type": "stream",
     "text": [
      "\r",
      "  3%|▎         | 4/116 [03:02<1:31:38, 49.09s/it]"
     ]
    },
    {
     "name": "stdout",
     "output_type": "stream",
     "text": [
      "Скачал батч номер 387\n"
     ]
    },
    {
     "name": "stderr",
     "output_type": "stream",
     "text": [
      "\r",
      "  4%|▍         | 5/116 [03:56<1:33:12, 50.38s/it]"
     ]
    },
    {
     "name": "stdout",
     "output_type": "stream",
     "text": [
      "Скачал батч номер 388\n"
     ]
    },
    {
     "name": "stderr",
     "output_type": "stream",
     "text": [
      "\r",
      "  5%|▌         | 6/116 [04:47<1:33:04, 50.77s/it]"
     ]
    },
    {
     "name": "stdout",
     "output_type": "stream",
     "text": [
      "Скачал батч номер 389\n"
     ]
    },
    {
     "name": "stderr",
     "output_type": "stream",
     "text": [
      "\r",
      "  6%|▌         | 7/116 [06:07<1:47:50, 59.36s/it]"
     ]
    },
    {
     "name": "stdout",
     "output_type": "stream",
     "text": [
      "Скачал батч номер 390\n"
     ]
    },
    {
     "name": "stderr",
     "output_type": "stream",
     "text": [
      "\r",
      "  7%|▋         | 8/116 [08:43<2:39:04, 88.37s/it]"
     ]
    },
    {
     "name": "stdout",
     "output_type": "stream",
     "text": [
      "Скачал батч номер 391\n"
     ]
    },
    {
     "name": "stderr",
     "output_type": "stream",
     "text": [
      "\r",
      "  8%|▊         | 9/116 [11:34<3:22:07, 113.34s/it]"
     ]
    },
    {
     "name": "stdout",
     "output_type": "stream",
     "text": [
      "Скачал батч номер 392\n"
     ]
    },
    {
     "name": "stderr",
     "output_type": "stream",
     "text": [
      "\r",
      "  9%|▊         | 10/116 [13:47<3:30:39, 119.24s/it]"
     ]
    },
    {
     "name": "stdout",
     "output_type": "stream",
     "text": [
      "Скачал батч номер 393\n"
     ]
    },
    {
     "name": "stderr",
     "output_type": "stream",
     "text": [
      "\r",
      "  9%|▉         | 11/116 [16:07<3:39:04, 125.19s/it]"
     ]
    },
    {
     "name": "stdout",
     "output_type": "stream",
     "text": [
      "Скачал батч номер 394\n"
     ]
    },
    {
     "name": "stderr",
     "output_type": "stream",
     "text": [
      "\r",
      " 10%|█         | 12/116 [18:41<3:52:07, 133.92s/it]"
     ]
    },
    {
     "name": "stdout",
     "output_type": "stream",
     "text": [
      "Скачал батч номер 395\n"
     ]
    },
    {
     "name": "stderr",
     "output_type": "stream",
     "text": [
      "\r",
      " 11%|█         | 13/116 [21:31<4:08:18, 144.65s/it]"
     ]
    },
    {
     "name": "stdout",
     "output_type": "stream",
     "text": [
      "Скачал батч номер 396\n"
     ]
    },
    {
     "name": "stderr",
     "output_type": "stream",
     "text": [
      "\r",
      " 12%|█▏        | 14/116 [23:33<3:54:28, 137.93s/it]"
     ]
    },
    {
     "name": "stdout",
     "output_type": "stream",
     "text": [
      "Скачал батч номер 397\n"
     ]
    },
    {
     "name": "stderr",
     "output_type": "stream",
     "text": [
      "\r",
      " 13%|█▎        | 15/116 [26:27<4:10:31, 148.83s/it]"
     ]
    },
    {
     "name": "stdout",
     "output_type": "stream",
     "text": [
      "Скачал батч номер 398\n"
     ]
    },
    {
     "name": "stderr",
     "output_type": "stream",
     "text": [
      "\r",
      " 14%|█▍        | 16/116 [28:12<3:45:58, 135.59s/it]"
     ]
    },
    {
     "name": "stdout",
     "output_type": "stream",
     "text": [
      "Скачал батч номер 399\n"
     ]
    },
    {
     "name": "stderr",
     "output_type": "stream",
     "text": [
      "\r",
      " 15%|█▍        | 17/116 [29:23<3:11:58, 116.35s/it]"
     ]
    },
    {
     "name": "stdout",
     "output_type": "stream",
     "text": [
      "Скачал батч номер 400\n"
     ]
    },
    {
     "name": "stderr",
     "output_type": "stream",
     "text": [
      "\r",
      " 16%|█▌        | 18/116 [32:10<3:34:32, 131.35s/it]"
     ]
    },
    {
     "name": "stdout",
     "output_type": "stream",
     "text": [
      "Скачал батч номер 401\n"
     ]
    },
    {
     "name": "stderr",
     "output_type": "stream",
     "text": [
      "\r",
      " 16%|█▋        | 19/116 [34:19<3:31:27, 130.80s/it]"
     ]
    },
    {
     "name": "stdout",
     "output_type": "stream",
     "text": [
      "Скачал батч номер 402\n"
     ]
    },
    {
     "name": "stderr",
     "output_type": "stream",
     "text": [
      "\r",
      " 17%|█▋        | 20/116 [37:00<3:43:52, 139.92s/it]"
     ]
    },
    {
     "name": "stdout",
     "output_type": "stream",
     "text": [
      "Скачал батч номер 403\n"
     ]
    },
    {
     "name": "stderr",
     "output_type": "stream",
     "text": [
      "\r",
      " 18%|█▊        | 21/116 [39:28<3:45:26, 142.38s/it]"
     ]
    },
    {
     "name": "stdout",
     "output_type": "stream",
     "text": [
      "Скачал батч номер 404\n"
     ]
    },
    {
     "name": "stderr",
     "output_type": "stream",
     "text": [
      "\r",
      " 19%|█▉        | 22/116 [43:17<4:23:34, 168.24s/it]"
     ]
    },
    {
     "name": "stdout",
     "output_type": "stream",
     "text": [
      "Скачал батч номер 405\n"
     ]
    },
    {
     "name": "stderr",
     "output_type": "stream",
     "text": [
      "\r",
      " 20%|█▉        | 23/116 [45:52<4:14:33, 164.23s/it]"
     ]
    },
    {
     "name": "stdout",
     "output_type": "stream",
     "text": [
      "Скачал батч номер 406\n"
     ]
    },
    {
     "name": "stderr",
     "output_type": "stream",
     "text": [
      "\r",
      " 21%|██        | 24/116 [48:31<4:09:27, 162.69s/it]"
     ]
    },
    {
     "name": "stdout",
     "output_type": "stream",
     "text": [
      "Скачал батч номер 407\n"
     ]
    },
    {
     "name": "stderr",
     "output_type": "stream",
     "text": [
      "\r",
      " 22%|██▏       | 25/116 [52:41<4:46:31, 188.91s/it]"
     ]
    },
    {
     "name": "stdout",
     "output_type": "stream",
     "text": [
      "Скачал батч номер 408\n"
     ]
    },
    {
     "name": "stderr",
     "output_type": "stream",
     "text": [
      "\r",
      " 22%|██▏       | 26/116 [56:07<4:51:10, 194.11s/it]"
     ]
    },
    {
     "name": "stdout",
     "output_type": "stream",
     "text": [
      "Скачал батч номер 409\n"
     ]
    },
    {
     "name": "stderr",
     "output_type": "stream",
     "text": [
      "\r",
      " 23%|██▎       | 27/116 [59:18<4:46:22, 193.06s/it]"
     ]
    },
    {
     "name": "stdout",
     "output_type": "stream",
     "text": [
      "Скачал батч номер 410\n"
     ]
    },
    {
     "name": "stderr",
     "output_type": "stream",
     "text": [
      "\r",
      " 24%|██▍       | 28/116 [1:02:17<4:36:55, 188.81s/it]"
     ]
    },
    {
     "name": "stdout",
     "output_type": "stream",
     "text": [
      "Скачал батч номер 411\n"
     ]
    },
    {
     "name": "stderr",
     "output_type": "stream",
     "text": [
      "\r",
      " 25%|██▌       | 29/116 [1:05:16<4:29:39, 185.97s/it]"
     ]
    },
    {
     "name": "stdout",
     "output_type": "stream",
     "text": [
      "Скачал батч номер 412\n"
     ]
    },
    {
     "name": "stderr",
     "output_type": "stream",
     "text": [
      "\r",
      " 26%|██▌       | 30/116 [1:08:05<4:19:14, 180.87s/it]"
     ]
    },
    {
     "name": "stdout",
     "output_type": "stream",
     "text": [
      "Скачал батч номер 413\n"
     ]
    },
    {
     "name": "stderr",
     "output_type": "stream",
     "text": [
      "\r",
      " 27%|██▋       | 31/116 [1:10:45<4:07:28, 174.68s/it]"
     ]
    },
    {
     "name": "stdout",
     "output_type": "stream",
     "text": [
      "Скачал батч номер 414\n"
     ]
    },
    {
     "name": "stderr",
     "output_type": "stream",
     "text": [
      "\r",
      " 28%|██▊       | 32/116 [1:13:07<3:50:38, 164.74s/it]"
     ]
    },
    {
     "name": "stdout",
     "output_type": "stream",
     "text": [
      "Скачал батч номер 415\n"
     ]
    },
    {
     "name": "stderr",
     "output_type": "stream",
     "text": [
      "\r",
      " 28%|██▊       | 33/116 [1:15:54<3:49:01, 165.56s/it]"
     ]
    },
    {
     "name": "stdout",
     "output_type": "stream",
     "text": [
      "Скачал батч номер 416\n"
     ]
    },
    {
     "name": "stderr",
     "output_type": "stream",
     "text": [
      "\r",
      " 29%|██▉       | 34/116 [1:19:38<4:09:59, 182.92s/it]"
     ]
    },
    {
     "name": "stdout",
     "output_type": "stream",
     "text": [
      "Скачал батч номер 417\n"
     ]
    },
    {
     "name": "stderr",
     "output_type": "stream",
     "text": [
      "\r",
      " 30%|███       | 35/116 [1:22:31<4:03:07, 180.09s/it]"
     ]
    },
    {
     "name": "stdout",
     "output_type": "stream",
     "text": [
      "Скачал батч номер 418\n"
     ]
    },
    {
     "name": "stderr",
     "output_type": "stream",
     "text": [
      "\r",
      " 31%|███       | 36/116 [1:25:07<3:50:27, 172.84s/it]"
     ]
    },
    {
     "name": "stdout",
     "output_type": "stream",
     "text": [
      "Скачал батч номер 419\n"
     ]
    },
    {
     "name": "stderr",
     "output_type": "stream",
     "text": [
      "\r",
      " 32%|███▏      | 37/116 [1:27:58<3:46:57, 172.37s/it]"
     ]
    },
    {
     "name": "stdout",
     "output_type": "stream",
     "text": [
      "Скачал батч номер 420\n"
     ]
    },
    {
     "name": "stderr",
     "output_type": "stream",
     "text": [
      "\r",
      " 33%|███▎      | 38/116 [1:30:16<3:30:32, 161.96s/it]"
     ]
    },
    {
     "name": "stdout",
     "output_type": "stream",
     "text": [
      "Скачал батч номер 421\n"
     ]
    },
    {
     "name": "stderr",
     "output_type": "stream",
     "text": [
      "\r",
      " 34%|███▎      | 39/116 [1:32:30<3:16:56, 153.46s/it]"
     ]
    },
    {
     "name": "stdout",
     "output_type": "stream",
     "text": [
      "Скачал батч номер 422\n"
     ]
    },
    {
     "name": "stderr",
     "output_type": "stream",
     "text": [
      "\r",
      " 34%|███▍      | 40/116 [1:34:35<3:03:34, 144.93s/it]"
     ]
    },
    {
     "name": "stdout",
     "output_type": "stream",
     "text": [
      "Скачал батч номер 423\n"
     ]
    },
    {
     "name": "stderr",
     "output_type": "stream",
     "text": [
      "\r",
      " 35%|███▌      | 41/116 [1:36:32<2:50:47, 136.63s/it]"
     ]
    },
    {
     "name": "stdout",
     "output_type": "stream",
     "text": [
      "Скачал батч номер 424\n"
     ]
    },
    {
     "name": "stderr",
     "output_type": "stream",
     "text": [
      "\r",
      " 36%|███▌      | 42/116 [1:38:53<2:50:05, 137.91s/it]"
     ]
    },
    {
     "name": "stdout",
     "output_type": "stream",
     "text": [
      "Скачал батч номер 425\n"
     ]
    },
    {
     "name": "stderr",
     "output_type": "stream",
     "text": [
      "\r",
      " 37%|███▋      | 43/116 [1:41:27<2:53:35, 142.68s/it]"
     ]
    },
    {
     "name": "stdout",
     "output_type": "stream",
     "text": [
      "Скачал батч номер 426\n"
     ]
    },
    {
     "name": "stderr",
     "output_type": "stream",
     "text": [
      "\r",
      " 38%|███▊      | 44/116 [1:43:17<2:39:39, 133.05s/it]"
     ]
    },
    {
     "name": "stdout",
     "output_type": "stream",
     "text": [
      "Скачал батч номер 427\n"
     ]
    },
    {
     "name": "stderr",
     "output_type": "stream",
     "text": [
      "\r",
      " 39%|███▉      | 45/116 [1:45:50<2:44:23, 138.92s/it]"
     ]
    },
    {
     "name": "stdout",
     "output_type": "stream",
     "text": [
      "Скачал батч номер 428\n"
     ]
    },
    {
     "name": "stderr",
     "output_type": "stream",
     "text": [
      "\r",
      " 40%|███▉      | 46/116 [1:48:19<2:45:39, 141.99s/it]"
     ]
    },
    {
     "name": "stdout",
     "output_type": "stream",
     "text": [
      "Скачал батч номер 429\n"
     ]
    },
    {
     "name": "stderr",
     "output_type": "stream",
     "text": [
      "\r",
      " 41%|████      | 47/116 [1:50:41<2:43:16, 141.98s/it]"
     ]
    },
    {
     "name": "stdout",
     "output_type": "stream",
     "text": [
      "Скачал батч номер 430\n"
     ]
    },
    {
     "name": "stderr",
     "output_type": "stream",
     "text": [
      "\r",
      " 41%|████▏     | 48/116 [1:53:07<2:42:17, 143.19s/it]"
     ]
    },
    {
     "name": "stdout",
     "output_type": "stream",
     "text": [
      "Скачал батч номер 431\n"
     ]
    },
    {
     "name": "stderr",
     "output_type": "stream",
     "text": [
      "\r",
      " 42%|████▏     | 49/116 [1:54:34<2:20:57, 126.22s/it]"
     ]
    },
    {
     "name": "stdout",
     "output_type": "stream",
     "text": [
      "Скачал батч номер 432\n"
     ]
    },
    {
     "name": "stderr",
     "output_type": "stream",
     "text": [
      "\r",
      " 43%|████▎     | 50/116 [1:57:04<2:26:50, 133.49s/it]"
     ]
    },
    {
     "name": "stdout",
     "output_type": "stream",
     "text": [
      "Скачал батч номер 433\n"
     ]
    },
    {
     "name": "stderr",
     "output_type": "stream",
     "text": [
      "\r",
      " 44%|████▍     | 51/116 [1:59:49<2:34:54, 143.00s/it]"
     ]
    },
    {
     "name": "stdout",
     "output_type": "stream",
     "text": [
      "Скачал батч номер 434\n"
     ]
    },
    {
     "name": "stderr",
     "output_type": "stream",
     "text": [
      "\r",
      " 45%|████▍     | 52/116 [2:01:59<2:28:16, 139.01s/it]"
     ]
    },
    {
     "name": "stdout",
     "output_type": "stream",
     "text": [
      "Скачал батч номер 435\n"
     ]
    },
    {
     "name": "stderr",
     "output_type": "stream",
     "text": [
      "\r",
      " 46%|████▌     | 53/116 [2:04:17<2:25:29, 138.56s/it]"
     ]
    },
    {
     "name": "stdout",
     "output_type": "stream",
     "text": [
      "Скачал батч номер 436\n"
     ]
    },
    {
     "name": "stderr",
     "output_type": "stream",
     "text": [
      "\r",
      " 47%|████▋     | 54/116 [2:06:08<2:14:47, 130.44s/it]"
     ]
    },
    {
     "name": "stdout",
     "output_type": "stream",
     "text": [
      "Скачал батч номер 437\n"
     ]
    },
    {
     "name": "stderr",
     "output_type": "stream",
     "text": [
      "\r",
      " 47%|████▋     | 55/116 [2:08:16<2:11:49, 129.66s/it]"
     ]
    },
    {
     "name": "stdout",
     "output_type": "stream",
     "text": [
      "Скачал батч номер 438\n"
     ]
    },
    {
     "name": "stderr",
     "output_type": "stream",
     "text": [
      "\r",
      " 48%|████▊     | 56/116 [2:10:55<2:18:24, 138.41s/it]"
     ]
    },
    {
     "name": "stdout",
     "output_type": "stream",
     "text": [
      "Скачал батч номер 439\n"
     ]
    },
    {
     "name": "stderr",
     "output_type": "stream",
     "text": [
      "\r",
      " 49%|████▉     | 57/116 [2:13:06<2:14:00, 136.27s/it]"
     ]
    },
    {
     "name": "stdout",
     "output_type": "stream",
     "text": [
      "Скачал батч номер 440\n"
     ]
    },
    {
     "name": "stderr",
     "output_type": "stream",
     "text": [
      "\r",
      " 50%|█████     | 58/116 [2:15:40<2:16:44, 141.45s/it]"
     ]
    },
    {
     "name": "stdout",
     "output_type": "stream",
     "text": [
      "Скачал батч номер 441\n"
     ]
    },
    {
     "name": "stderr",
     "output_type": "stream",
     "text": [
      "\r",
      " 51%|█████     | 59/116 [2:18:01<2:14:18, 141.38s/it]"
     ]
    },
    {
     "name": "stdout",
     "output_type": "stream",
     "text": [
      "Скачал батч номер 442\n"
     ]
    },
    {
     "name": "stderr",
     "output_type": "stream",
     "text": [
      "\r",
      " 52%|█████▏    | 60/116 [2:20:38<2:16:21, 146.09s/it]"
     ]
    },
    {
     "name": "stdout",
     "output_type": "stream",
     "text": [
      "Скачал батч номер 443\n"
     ]
    },
    {
     "name": "stderr",
     "output_type": "stream",
     "text": [
      "\r",
      " 53%|█████▎    | 61/116 [2:23:06<2:14:24, 146.63s/it]"
     ]
    },
    {
     "name": "stdout",
     "output_type": "stream",
     "text": [
      "Скачал батч номер 444\n"
     ]
    },
    {
     "name": "stderr",
     "output_type": "stream",
     "text": [
      "\r",
      " 53%|█████▎    | 62/116 [2:26:26<2:26:19, 162.59s/it]"
     ]
    },
    {
     "name": "stdout",
     "output_type": "stream",
     "text": [
      "Скачал батч номер 445\n"
     ]
    },
    {
     "name": "stderr",
     "output_type": "stream",
     "text": [
      "\r",
      " 54%|█████▍    | 63/116 [2:28:37<2:15:25, 153.32s/it]"
     ]
    },
    {
     "name": "stdout",
     "output_type": "stream",
     "text": [
      "Скачал батч номер 446\n"
     ]
    },
    {
     "name": "stderr",
     "output_type": "stream",
     "text": [
      "\r",
      " 55%|█████▌    | 64/116 [2:30:37<2:04:07, 143.22s/it]"
     ]
    },
    {
     "name": "stdout",
     "output_type": "stream",
     "text": [
      "Скачал батч номер 447\n"
     ]
    },
    {
     "name": "stderr",
     "output_type": "stream",
     "text": [
      "\r",
      " 56%|█████▌    | 65/116 [2:33:39<2:11:40, 154.90s/it]"
     ]
    },
    {
     "name": "stdout",
     "output_type": "stream",
     "text": [
      "Скачал батч номер 448\n"
     ]
    },
    {
     "name": "stderr",
     "output_type": "stream",
     "text": [
      "\r",
      " 57%|█████▋    | 66/116 [2:36:47<2:17:14, 164.70s/it]"
     ]
    },
    {
     "name": "stdout",
     "output_type": "stream",
     "text": [
      "Скачал батч номер 449\n"
     ]
    },
    {
     "name": "stderr",
     "output_type": "stream",
     "text": [
      "\r",
      " 58%|█████▊    | 67/116 [2:39:56<2:20:28, 172.01s/it]"
     ]
    },
    {
     "name": "stdout",
     "output_type": "stream",
     "text": [
      "Скачал батч номер 450\n"
     ]
    },
    {
     "name": "stderr",
     "output_type": "stream",
     "text": [
      "\r",
      " 59%|█████▊    | 68/116 [2:42:37<2:15:01, 168.78s/it]"
     ]
    },
    {
     "name": "stdout",
     "output_type": "stream",
     "text": [
      "Скачал батч номер 451\n"
     ]
    },
    {
     "name": "stderr",
     "output_type": "stream",
     "text": [
      "\r",
      " 59%|█████▉    | 69/116 [2:45:35<2:14:29, 171.70s/it]"
     ]
    },
    {
     "name": "stdout",
     "output_type": "stream",
     "text": [
      "Скачал батч номер 452\n"
     ]
    },
    {
     "name": "stderr",
     "output_type": "stream",
     "text": [
      "\r",
      " 60%|██████    | 70/116 [2:48:01<2:05:30, 163.71s/it]"
     ]
    },
    {
     "name": "stdout",
     "output_type": "stream",
     "text": [
      "Скачал батч номер 453\n"
     ]
    },
    {
     "name": "stderr",
     "output_type": "stream",
     "text": [
      "\r",
      " 61%|██████    | 71/116 [2:51:06<2:07:40, 170.24s/it]"
     ]
    },
    {
     "name": "stdout",
     "output_type": "stream",
     "text": [
      "Скачал батч номер 454\n"
     ]
    },
    {
     "name": "stderr",
     "output_type": "stream",
     "text": [
      "\r",
      " 62%|██████▏   | 72/116 [2:54:03<2:06:21, 172.31s/it]"
     ]
    },
    {
     "name": "stdout",
     "output_type": "stream",
     "text": [
      "Скачал батч номер 455\n"
     ]
    },
    {
     "name": "stderr",
     "output_type": "stream",
     "text": [
      "\r",
      " 63%|██████▎   | 73/116 [2:56:41<2:00:27, 168.07s/it]"
     ]
    },
    {
     "name": "stdout",
     "output_type": "stream",
     "text": [
      "Скачал батч номер 456\n"
     ]
    },
    {
     "name": "stderr",
     "output_type": "stream",
     "text": [
      "\r",
      " 64%|██████▍   | 74/116 [2:58:11<1:41:06, 144.43s/it]"
     ]
    },
    {
     "name": "stdout",
     "output_type": "stream",
     "text": [
      "Скачал батч номер 457\n"
     ]
    },
    {
     "name": "stderr",
     "output_type": "stream",
     "text": [
      "\r",
      " 65%|██████▍   | 75/116 [3:00:37<1:39:07, 145.07s/it]"
     ]
    },
    {
     "name": "stdout",
     "output_type": "stream",
     "text": [
      "Скачал батч номер 458\n"
     ]
    },
    {
     "name": "stderr",
     "output_type": "stream",
     "text": [
      "\r",
      " 66%|██████▌   | 76/116 [3:02:41<1:32:25, 138.63s/it]"
     ]
    },
    {
     "name": "stdout",
     "output_type": "stream",
     "text": [
      "Скачал батч номер 459\n"
     ]
    },
    {
     "name": "stderr",
     "output_type": "stream",
     "text": [
      "\r",
      " 66%|██████▋   | 77/116 [3:05:21<1:34:23, 145.22s/it]"
     ]
    },
    {
     "name": "stdout",
     "output_type": "stream",
     "text": [
      "Скачал батч номер 460\n"
     ]
    },
    {
     "name": "stderr",
     "output_type": "stream",
     "text": [
      "\r",
      " 67%|██████▋   | 78/116 [3:07:55<1:33:38, 147.84s/it]"
     ]
    },
    {
     "name": "stdout",
     "output_type": "stream",
     "text": [
      "Скачал батч номер 461\n"
     ]
    },
    {
     "name": "stderr",
     "output_type": "stream",
     "text": [
      "\r",
      " 68%|██████▊   | 79/116 [3:09:44<1:23:51, 136.00s/it]"
     ]
    },
    {
     "name": "stdout",
     "output_type": "stream",
     "text": [
      "Скачал батч номер 462\n"
     ]
    },
    {
     "name": "stderr",
     "output_type": "stream",
     "text": [
      "\r",
      " 69%|██████▉   | 80/116 [3:11:39<1:17:54, 129.85s/it]"
     ]
    },
    {
     "name": "stdout",
     "output_type": "stream",
     "text": [
      "Скачал батч номер 463\n"
     ]
    },
    {
     "name": "stderr",
     "output_type": "stream",
     "text": [
      "\r",
      " 70%|██████▉   | 81/116 [3:13:49<1:15:39, 129.71s/it]"
     ]
    },
    {
     "name": "stdout",
     "output_type": "stream",
     "text": [
      "Скачал батч номер 464\n"
     ]
    },
    {
     "name": "stderr",
     "output_type": "stream",
     "text": [
      "\r",
      " 71%|███████   | 82/116 [3:15:48<1:11:47, 126.70s/it]"
     ]
    },
    {
     "name": "stdout",
     "output_type": "stream",
     "text": [
      "Скачал батч номер 465\n"
     ]
    },
    {
     "name": "stderr",
     "output_type": "stream",
     "text": [
      "\r",
      " 72%|███████▏  | 83/116 [3:18:01<1:10:37, 128.40s/it]"
     ]
    },
    {
     "name": "stdout",
     "output_type": "stream",
     "text": [
      "Скачал батч номер 466\n"
     ]
    },
    {
     "name": "stderr",
     "output_type": "stream",
     "text": [
      "\r",
      " 72%|███████▏  | 84/116 [3:20:43<1:13:54, 138.58s/it]"
     ]
    },
    {
     "name": "stdout",
     "output_type": "stream",
     "text": [
      "Скачал батч номер 467\n"
     ]
    },
    {
     "name": "stderr",
     "output_type": "stream",
     "text": [
      "\r",
      " 73%|███████▎  | 85/116 [3:23:45<1:18:19, 151.59s/it]"
     ]
    },
    {
     "name": "stdout",
     "output_type": "stream",
     "text": [
      "Скачал батч номер 468\n"
     ]
    },
    {
     "name": "stderr",
     "output_type": "stream",
     "text": [
      "\r",
      " 74%|███████▍  | 86/116 [3:25:54<1:12:21, 144.71s/it]"
     ]
    },
    {
     "name": "stdout",
     "output_type": "stream",
     "text": [
      "Скачал батч номер 469\n"
     ]
    },
    {
     "name": "stderr",
     "output_type": "stream",
     "text": [
      "\r",
      " 75%|███████▌  | 87/116 [3:28:25<1:10:52, 146.63s/it]"
     ]
    },
    {
     "name": "stdout",
     "output_type": "stream",
     "text": [
      "Скачал батч номер 470\n"
     ]
    },
    {
     "name": "stderr",
     "output_type": "stream",
     "text": [
      "\r",
      " 76%|███████▌  | 88/116 [3:31:19<1:12:20, 155.00s/it]"
     ]
    },
    {
     "name": "stdout",
     "output_type": "stream",
     "text": [
      "Скачал батч номер 471\n"
     ]
    },
    {
     "name": "stderr",
     "output_type": "stream",
     "text": [
      "\r",
      " 77%|███████▋  | 89/116 [3:34:17<1:12:50, 161.86s/it]"
     ]
    },
    {
     "name": "stdout",
     "output_type": "stream",
     "text": [
      "Скачал батч номер 472\n"
     ]
    },
    {
     "name": "stderr",
     "output_type": "stream",
     "text": [
      "\r",
      " 78%|███████▊  | 90/116 [3:37:06<1:11:03, 163.99s/it]"
     ]
    },
    {
     "name": "stdout",
     "output_type": "stream",
     "text": [
      "Скачал батч номер 473\n"
     ]
    },
    {
     "name": "stderr",
     "output_type": "stream",
     "text": [
      "\r",
      " 78%|███████▊  | 91/116 [3:41:08<1:18:06, 187.48s/it]"
     ]
    },
    {
     "name": "stdout",
     "output_type": "stream",
     "text": [
      "Скачал батч номер 474\n"
     ]
    },
    {
     "name": "stderr",
     "output_type": "stream",
     "text": [
      "\r",
      " 79%|███████▉  | 92/116 [3:44:38<1:17:40, 194.20s/it]"
     ]
    },
    {
     "name": "stdout",
     "output_type": "stream",
     "text": [
      "Скачал батч номер 475\n"
     ]
    },
    {
     "name": "stderr",
     "output_type": "stream",
     "text": [
      "\r",
      " 80%|████████  | 93/116 [3:47:55<1:14:45, 195.03s/it]"
     ]
    },
    {
     "name": "stdout",
     "output_type": "stream",
     "text": [
      "Скачал батч номер 476\n"
     ]
    },
    {
     "name": "stderr",
     "output_type": "stream",
     "text": [
      "\r",
      " 81%|████████  | 94/116 [3:51:15<1:12:03, 196.53s/it]"
     ]
    },
    {
     "name": "stdout",
     "output_type": "stream",
     "text": [
      "Скачал батч номер 477\n"
     ]
    },
    {
     "name": "stderr",
     "output_type": "stream",
     "text": [
      "\r",
      " 82%|████████▏ | 95/116 [3:55:21<1:13:55, 211.21s/it]"
     ]
    },
    {
     "name": "stdout",
     "output_type": "stream",
     "text": [
      "Скачал батч номер 478\n"
     ]
    },
    {
     "name": "stderr",
     "output_type": "stream",
     "text": [
      "\r",
      " 83%|████████▎ | 96/116 [3:58:31<1:08:20, 205.04s/it]"
     ]
    },
    {
     "name": "stdout",
     "output_type": "stream",
     "text": [
      "Скачал батч номер 479\n"
     ]
    },
    {
     "name": "stderr",
     "output_type": "stream",
     "text": [
      "\r",
      " 84%|████████▎ | 97/116 [4:01:31<1:02:31, 197.47s/it]"
     ]
    },
    {
     "name": "stdout",
     "output_type": "stream",
     "text": [
      "Скачал батч номер 480\n"
     ]
    },
    {
     "name": "stderr",
     "output_type": "stream",
     "text": [
      "\r",
      " 84%|████████▍ | 98/116 [4:05:00<1:00:15, 200.87s/it]"
     ]
    },
    {
     "name": "stdout",
     "output_type": "stream",
     "text": [
      "Скачал батч номер 481\n"
     ]
    },
    {
     "name": "stderr",
     "output_type": "stream",
     "text": [
      "\r",
      " 85%|████████▌ | 99/116 [4:08:00<55:11, 194.77s/it]  "
     ]
    },
    {
     "name": "stdout",
     "output_type": "stream",
     "text": [
      "Скачал батч номер 482\n"
     ]
    },
    {
     "name": "stderr",
     "output_type": "stream",
     "text": [
      "\r",
      " 86%|████████▌ | 100/116 [4:10:55<50:21, 188.82s/it]"
     ]
    },
    {
     "name": "stdout",
     "output_type": "stream",
     "text": [
      "Скачал батч номер 483\n"
     ]
    },
    {
     "name": "stderr",
     "output_type": "stream",
     "text": [
      "\r",
      " 87%|████████▋ | 101/116 [4:13:54<46:26, 185.77s/it]"
     ]
    },
    {
     "name": "stdout",
     "output_type": "stream",
     "text": [
      "Скачал батч номер 484\n"
     ]
    },
    {
     "name": "stderr",
     "output_type": "stream",
     "text": [
      "\r",
      " 88%|████████▊ | 102/116 [4:16:32<41:23, 177.36s/it]"
     ]
    },
    {
     "name": "stdout",
     "output_type": "stream",
     "text": [
      "Скачал батч номер 485\n"
     ]
    },
    {
     "name": "stderr",
     "output_type": "stream",
     "text": [
      "\r",
      " 89%|████████▉ | 103/116 [4:19:41<39:13, 181.02s/it]"
     ]
    },
    {
     "name": "stdout",
     "output_type": "stream",
     "text": [
      "Скачал батч номер 486\n"
     ]
    },
    {
     "name": "stderr",
     "output_type": "stream",
     "text": [
      "\r",
      " 90%|████████▉ | 104/116 [4:22:15<34:32, 172.71s/it]"
     ]
    },
    {
     "name": "stdout",
     "output_type": "stream",
     "text": [
      "Скачал батч номер 487\n"
     ]
    },
    {
     "name": "stderr",
     "output_type": "stream",
     "text": [
      "\r",
      " 91%|█████████ | 105/116 [4:24:16<28:51, 157.37s/it]"
     ]
    },
    {
     "name": "stdout",
     "output_type": "stream",
     "text": [
      "Скачал батч номер 488\n"
     ]
    },
    {
     "name": "stderr",
     "output_type": "stream",
     "text": [
      "\r",
      " 91%|█████████▏| 106/116 [4:26:57<26:23, 158.33s/it]"
     ]
    },
    {
     "name": "stdout",
     "output_type": "stream",
     "text": [
      "Скачал батч номер 489\n"
     ]
    },
    {
     "name": "stderr",
     "output_type": "stream",
     "text": [
      "\r",
      " 92%|█████████▏| 107/116 [4:28:47<21:35, 143.93s/it]"
     ]
    },
    {
     "name": "stdout",
     "output_type": "stream",
     "text": [
      "Скачал батч номер 490\n"
     ]
    },
    {
     "name": "stderr",
     "output_type": "stream",
     "text": [
      "\r",
      " 93%|█████████▎| 108/116 [4:32:00<21:09, 158.69s/it]"
     ]
    },
    {
     "name": "stdout",
     "output_type": "stream",
     "text": [
      "Скачал батч номер 491\n"
     ]
    },
    {
     "name": "stderr",
     "output_type": "stream",
     "text": [
      "\r",
      " 94%|█████████▍| 109/116 [4:34:36<18:24, 157.76s/it]"
     ]
    },
    {
     "name": "stdout",
     "output_type": "stream",
     "text": [
      "Скачал батч номер 492\n"
     ]
    },
    {
     "name": "stderr",
     "output_type": "stream",
     "text": [
      "\r",
      " 95%|█████████▍| 110/116 [4:37:02<15:26, 154.41s/it]"
     ]
    },
    {
     "name": "stdout",
     "output_type": "stream",
     "text": [
      "Скачал батч номер 493\n"
     ]
    },
    {
     "name": "stderr",
     "output_type": "stream",
     "text": [
      "\r",
      " 96%|█████████▌| 111/116 [4:39:17<12:21, 148.35s/it]"
     ]
    },
    {
     "name": "stdout",
     "output_type": "stream",
     "text": [
      "Скачал батч номер 494\n"
     ]
    },
    {
     "name": "stderr",
     "output_type": "stream",
     "text": [
      "\r",
      " 97%|█████████▋| 112/116 [4:41:17<09:20, 140.05s/it]"
     ]
    },
    {
     "name": "stdout",
     "output_type": "stream",
     "text": [
      "Скачал батч номер 495\n"
     ]
    },
    {
     "name": "stderr",
     "output_type": "stream",
     "text": [
      "\r",
      " 97%|█████████▋| 113/116 [4:43:33<06:56, 138.87s/it]"
     ]
    },
    {
     "name": "stdout",
     "output_type": "stream",
     "text": [
      "Скачал батч номер 496\n"
     ]
    },
    {
     "name": "stderr",
     "output_type": "stream",
     "text": [
      "\r",
      " 98%|█████████▊| 114/116 [4:46:33<05:02, 151.05s/it]"
     ]
    },
    {
     "name": "stdout",
     "output_type": "stream",
     "text": [
      "Скачал батч номер 497\n"
     ]
    },
    {
     "name": "stderr",
     "output_type": "stream",
     "text": [
      "\r",
      " 99%|█████████▉| 115/116 [4:50:09<02:50, 170.70s/it]"
     ]
    },
    {
     "name": "stdout",
     "output_type": "stream",
     "text": [
      "Скачал батч номер 498\n"
     ]
    },
    {
     "name": "stderr",
     "output_type": "stream",
     "text": [
      "100%|██████████| 116/116 [4:59:11<00:00, 154.76s/it]"
     ]
    },
    {
     "name": "stdout",
     "output_type": "stream",
     "text": [
      "Скачал батч номер 499\n"
     ]
    },
    {
     "name": "stderr",
     "output_type": "stream",
     "text": [
      "\n"
     ]
    }
   ],
   "source": [
    "result = [ ]\n",
    "for batch in tqdm(x_batch[(198+186):]):\n",
    "    \n",
    "    n_jobs = -1\n",
    "    result_cur = Parallel(n_jobs=n_jobs)(delayed(get_tass_news)(\n",
    "        text) for text in batch)\n",
    "\n",
    "    print('Скачал батч номер ' + str(i))\n",
    "    i += 1\n",
    "    result.extend(result_cur)"
   ]
  },
  {
   "cell_type": "code",
   "execution_count": null,
   "metadata": {},
   "outputs": [],
   "source": [
    "# %%time\n",
    "# itog_news = MRDownloader(itog_titles, 10, parser_function=get_tass_news)\n",
    "# len(itog_news)"
   ]
  },
  {
   "cell_type": "code",
   "execution_count": 20,
   "metadata": {},
   "outputs": [
    {
     "data": {
      "text/plain": [
       "11144"
      ]
     },
     "execution_count": 20,
     "metadata": {},
     "output_type": "execute_result"
    }
   ],
   "source": [
    "len(result)"
   ]
  },
  {
   "cell_type": "code",
   "execution_count": 21,
   "metadata": {},
   "outputs": [
    {
     "data": {
      "text/plain": [
       "6892"
      ]
     },
     "execution_count": 21,
     "metadata": {},
     "output_type": "execute_result"
    }
   ],
   "source": [
    "# хули так мало, по ходу парсер не докачивает какие-то случаи\n",
    "itog_news = [itog for itog in result if len(itog.keys()) != 0 ]\n",
    "len(itog_news)"
   ]
  },
  {
   "cell_type": "code",
   "execution_count": 22,
   "metadata": {},
   "outputs": [
    {
     "data": {
      "text/html": [
       "<div>\n",
       "<style scoped>\n",
       "    .dataframe tbody tr th:only-of-type {\n",
       "        vertical-align: middle;\n",
       "    }\n",
       "\n",
       "    .dataframe tbody tr th {\n",
       "        vertical-align: top;\n",
       "    }\n",
       "\n",
       "    .dataframe thead th {\n",
       "        text-align: right;\n",
       "    }\n",
       "</style>\n",
       "<table border=\"1\" class=\"dataframe\">\n",
       "  <thead>\n",
       "    <tr style=\"text-align: right;\">\n",
       "      <th></th>\n",
       "      <th>title</th>\n",
       "      <th>category</th>\n",
       "      <th>href</th>\n",
       "      <th>date</th>\n",
       "      <th>uci_time</th>\n",
       "      <th>text</th>\n",
       "      <th>snippet</th>\n",
       "    </tr>\n",
       "  </thead>\n",
       "  <tbody>\n",
       "    <tr>\n",
       "      <th>0</th>\n",
       "      <td>Физики узнали, почему гребни прибрежных волн с...</td>\n",
       "      <td>Наука</td>\n",
       "      <td>/nauka/8895611</td>\n",
       "      <td>2020-07-06 16:43:06</td>\n",
       "      <td>1594042986</td>\n",
       "      <td>ТАСС, 6 июля. Британские физики выяснили, поче...</td>\n",
       "      <td>Оказалось, в этом \"виноваты\" волны и водоросли...</td>\n",
       "    </tr>\n",
       "    <tr>\n",
       "      <th>1</th>\n",
       "      <td>Журналистка Прокопьева будет добиваться снижен...</td>\n",
       "      <td>Происшествия</td>\n",
       "      <td>/proisshestviya/8896443</td>\n",
       "      <td>2020-07-06 16:38:56</td>\n",
       "      <td>1594042736</td>\n",
       "      <td>МОСКВА, 6 июля. /ТАСС/. Псковская журналистка ...</td>\n",
       "      <td>Ранее суд признал ее виновной и назначил штраф...</td>\n",
       "    </tr>\n",
       "    <tr>\n",
       "      <th>2</th>\n",
       "      <td>Союз индустрии гостеприимства отметил рост спр...</td>\n",
       "      <td>Экономика и бизнес</td>\n",
       "      <td>/ekonomika/8896375</td>\n",
       "      <td>2020-07-06 16:37:30</td>\n",
       "      <td>1594042650</td>\n",
       "      <td>МОСКВА, 6 июля. /ТАСС/. Общенациональный союз ...</td>\n",
       "      <td>В частности, по данным союза, уровень брониров...</td>\n",
       "    </tr>\n",
       "    <tr>\n",
       "      <th>3</th>\n",
       "      <td>Эксперты: решение Дании по \"Северному потоку -...</td>\n",
       "      <td>Экономика и бизнес</td>\n",
       "      <td>/ekonomika/8895757</td>\n",
       "      <td>2020-07-06 16:36:00</td>\n",
       "      <td>1594042560</td>\n",
       "      <td>МОСКВА, 6 июля. /ТАСС/. Решение Датского энерг...</td>\n",
       "      <td>При этом специалисты отмечают, что возможность...</td>\n",
       "    </tr>\n",
       "    <tr>\n",
       "      <th>4</th>\n",
       "      <td>В Москве из-за жары объявили \"оранжевый\" урове...</td>\n",
       "      <td>В стране</td>\n",
       "      <td>/v-strane/8895589</td>\n",
       "      <td>2020-07-06 16:32:49</td>\n",
       "      <td>1594042369</td>\n",
       "      <td>МОСКВА, 6 июля. /ТАСС/. В связи с аномальной ж...</td>\n",
       "      <td>Аномально высокая температура воздуха ожидаетс...</td>\n",
       "    </tr>\n",
       "  </tbody>\n",
       "</table>\n",
       "</div>"
      ],
      "text/plain": [
       "                                               title            category  \\\n",
       "0  Физики узнали, почему гребни прибрежных волн с...               Наука   \n",
       "1  Журналистка Прокопьева будет добиваться снижен...        Происшествия   \n",
       "2  Союз индустрии гостеприимства отметил рост спр...  Экономика и бизнес   \n",
       "3  Эксперты: решение Дании по \"Северному потоку -...  Экономика и бизнес   \n",
       "4  В Москве из-за жары объявили \"оранжевый\" урове...            В стране   \n",
       "\n",
       "                      href                 date    uci_time  \\\n",
       "0           /nauka/8895611  2020-07-06 16:43:06  1594042986   \n",
       "1  /proisshestviya/8896443  2020-07-06 16:38:56  1594042736   \n",
       "2       /ekonomika/8896375  2020-07-06 16:37:30  1594042650   \n",
       "3       /ekonomika/8895757  2020-07-06 16:36:00  1594042560   \n",
       "4        /v-strane/8895589  2020-07-06 16:32:49  1594042369   \n",
       "\n",
       "                                                text  \\\n",
       "0  ТАСС, 6 июля. Британские физики выяснили, поче...   \n",
       "1  МОСКВА, 6 июля. /ТАСС/. Псковская журналистка ...   \n",
       "2  МОСКВА, 6 июля. /ТАСС/. Общенациональный союз ...   \n",
       "3  МОСКВА, 6 июля. /ТАСС/. Решение Датского энерг...   \n",
       "4  МОСКВА, 6 июля. /ТАСС/. В связи с аномальной ж...   \n",
       "\n",
       "                                             snippet  \n",
       "0  Оказалось, в этом \"виноваты\" волны и водоросли...  \n",
       "1  Ранее суд признал ее виновной и назначил штраф...  \n",
       "2  В частности, по данным союза, уровень брониров...  \n",
       "3  При этом специалисты отмечают, что возможность...  \n",
       "4  Аномально высокая температура воздуха ожидаетс...  "
      ]
     },
     "execution_count": 22,
     "metadata": {},
     "output_type": "execute_result"
    }
   ],
   "source": [
    "pd.DataFrame(itog_news).head()"
   ]
  },
  {
   "cell_type": "code",
   "execution_count": 23,
   "metadata": {},
   "outputs": [],
   "source": [
    "with open('news_data/tass_news_new_part3.pickle', 'wb') as f:\n",
    "    pickle.dump(itog_news, f)"
   ]
  },
  {
   "cell_type": "markdown",
   "metadata": {},
   "source": [
    " "
   ]
  },
  {
   "cell_type": "markdown",
   "metadata": {},
   "source": [
    " "
   ]
  }
 ],
 "metadata": {
  "kernelspec": {
   "display_name": "Python 3",
   "language": "python",
   "name": "python3"
  },
  "language_info": {
   "codemirror_mode": {
    "name": "ipython",
    "version": 3
   },
   "file_extension": ".py",
   "mimetype": "text/x-python",
   "name": "python",
   "nbconvert_exporter": "python",
   "pygments_lexer": "ipython3",
   "version": "3.9.0"
  }
 },
 "nbformat": 4,
 "nbformat_minor": 2
}
