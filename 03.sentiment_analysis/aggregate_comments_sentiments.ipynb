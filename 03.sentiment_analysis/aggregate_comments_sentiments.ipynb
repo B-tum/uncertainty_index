{
 "cells": [
  {
   "cell_type": "markdown",
   "metadata": {},
   "source": [
    "# Comments sentiment Index "
   ]
  },
  {
   "cell_type": "code",
   "execution_count": 1,
   "metadata": {},
   "outputs": [],
   "source": [
    "from tqdm import tqdm_notebook\n",
    "import pickle\n",
    "\n",
    "import numpy as np\n",
    "import pandas as pd\n",
    "import datetime\n",
    "\n",
    "import matplotlib\n",
    "from matplotlib import pyplot as plt\n",
    "import matplotlib.patches as mpatches\n",
    "matplotlib.style.use('ggplot')\n",
    "\n",
    "%matplotlib inline"
   ]
  },
  {
   "cell_type": "markdown",
   "metadata": {},
   "source": [
    "# Aggregation"
   ]
  },
  {
   "cell_type": "code",
   "execution_count": 2,
   "metadata": {},
   "outputs": [
    {
     "name": "stdout",
     "output_type": "stream",
     "text": [
      "interfax_vk_posts        meduza_vk_posts          tass_vk_posts\r\n",
      "komersant_vk_posts       rbc_vk_posts             vedomosty_vk_posts\r\n",
      "lenta_vk_posts           rg_vk_posts              vk_posts_tag_lemm.pickle\r\n",
      "lentach_1_vk_posts       ria_vk_posts\r\n",
      "lentach_2_vk_posts       rt_vk_posts\r\n"
     ]
    }
   ],
   "source": [
    "!ls /Users/fulyankin/Yandex.Disk.localized/projects/news/news_parser/news_data/vk_news/posts"
   ]
  },
  {
   "cell_type": "code",
   "execution_count": 3,
   "metadata": {},
   "outputs": [
    {
     "data": {
      "text/plain": [
       "['interfax_vk_comments_sen',\n",
       " 'komersant_vk_comments_2020-06-01_sen',\n",
       " 'komersant_vk_comments_sen',\n",
       " 'lenta_vk_comments_2020-06-01_sen',\n",
       " 'lenta_vk_comments_sen',\n",
       " 'lentach_1_vk_comments_sen',\n",
       " 'lentach_1_vk_commetns_2020-06-01_sen',\n",
       " 'lentach_2_vk_comments_2020-06-01_sen',\n",
       " 'lentach_2_vk_comments_sen',\n",
       " 'meduza_vk_comments_2020-06-01_sen',\n",
       " 'meduza_vk_comments_sen',\n",
       " 'rbc_vk_comments_2020-06-01_sen',\n",
       " 'rbc_vk_comments_sen',\n",
       " 'rg_vk_comments_2020-06-01_sen',\n",
       " 'rg_vk_comments_sen',\n",
       " 'ria_vk_comments_2020-06-01_sen',\n",
       " 'ria_vk_comments_sen',\n",
       " 'rt_part1_vk_comments_sen',\n",
       " 'rt_part2_vk_comments_sen',\n",
       " 'rt_vk_comments_2020-06-01_sen',\n",
       " 'tass_vk_comments_2020-06-01_sen',\n",
       " 'tass_vk_comments_sen',\n",
       " 'vedomosty_vk_comments_2020-06-01_sen',\n",
       " 'vedomosty_vk_comments_sen']"
      ]
     },
     "execution_count": 3,
     "metadata": {},
     "output_type": "execute_result"
    }
   ],
   "source": [
    "files = !ls /Users/fulyankin/Yandex.Disk.localized/projects/news/news_parser/news_data/vk_news/comments\n",
    "files"
   ]
  },
  {
   "cell_type": "code",
   "execution_count": 4,
   "metadata": {},
   "outputs": [],
   "source": [
    "# Путь к данным\n",
    "path = '/Users/fulyankin/Yandex.Disk.localized/projects/news/news_parser/news_data/vk_news/'\n",
    "dfs = [ ]"
   ]
  },
  {
   "cell_type": "code",
   "execution_count": 5,
   "metadata": {
    "scrolled": false
   },
   "outputs": [
    {
     "name": "stdout",
     "output_type": "stream",
     "text": [
      "interfax_vk_comments_sen \n",
      "\n",
      "neutral     41586\n",
      "negative     9324\n",
      "positive     2142\n",
      "skip         1951\n",
      "speech        256\n",
      "Name: rusentiment_model, dtype: int64 \n",
      "\n"
     ]
    },
    {
     "name": "stderr",
     "output_type": "stream",
     "text": [
      "/usr/local/lib/python3.7/site-packages/pandas/core/groupby/generic.py:1455: FutureWarning: using a dict with renaming is deprecated and will be removed\n",
      "in a future version.\n",
      "\n",
      "For column-specific groupby renaming, use named aggregation\n",
      "\n",
      "    >>> df.groupby(...).agg(name=('column', aggfunc))\n",
      "\n",
      "  return super().aggregate(arg, *args, **kwargs)\n"
     ]
    },
    {
     "name": "stdout",
     "output_type": "stream",
     "text": [
      "-------------------------------\n",
      "komersant_vk_comments_2020-06-01_sen \n",
      "\n",
      "neutral     49024\n",
      "negative     8610\n",
      "skip         2238\n",
      "positive     1986\n",
      "speech        326\n",
      "Name: rusentiment_model, dtype: int64 \n",
      "\n",
      "-------------------------------\n",
      "komersant_vk_comments_sen \n",
      "\n",
      "neutral     982301\n",
      "negative    185384\n",
      "positive     47721\n",
      "skip         43770\n",
      "speech        5923\n",
      "Name: rusentiment_model, dtype: int64 \n",
      "\n",
      "-------------------------------\n",
      "lenta_vk_comments_2020-06-01_sen \n",
      "\n",
      "neutral     70618\n",
      "negative    12496\n",
      "positive     4696\n",
      "skip         4025\n",
      "speech        532\n",
      "Name: rusentiment_model, dtype: int64 \n",
      "\n",
      "-------------------------------\n",
      "lenta_vk_comments_sen \n",
      "\n",
      "neutral     2806417\n",
      "negative     533584\n",
      "skip         194925\n",
      "positive     166012\n",
      "speech        15589\n",
      "Name: rusentiment_model, dtype: int64 \n",
      "\n",
      "-------------------------------\n",
      "lentach_1_vk_comments_sen \n",
      "\n",
      "neutral     4638610\n",
      "negative     846335\n",
      "skip         309148\n",
      "positive     242924\n",
      "speech        33416\n",
      "Name: rusentiment_model, dtype: int64 \n",
      "\n",
      "-------------------------------\n",
      "lentach_1_vk_commetns_2020-06-01_sen \n",
      "\n",
      "neutral     19036\n",
      "negative     2807\n",
      "skip         1054\n",
      "positive      781\n",
      "speech        119\n",
      "Name: rusentiment_model, dtype: int64 \n",
      "\n",
      "-------------------------------\n",
      "lentach_2_vk_comments_2020-06-01_sen \n",
      "\n",
      "neutral     37176\n",
      "negative     6406\n",
      "skip         1935\n",
      "positive     1600\n",
      "speech        252\n",
      "Name: rusentiment_model, dtype: int64 \n",
      "\n",
      "-------------------------------\n",
      "lentach_2_vk_comments_sen \n",
      "\n",
      "neutral     926991\n",
      "negative    151190\n",
      "skip         52465\n",
      "positive     49367\n",
      "speech        6177\n",
      "Name: rusentiment_model, dtype: int64 \n",
      "\n",
      "-------------------------------\n",
      "meduza_vk_comments_2020-06-01_sen \n",
      "\n",
      "neutral     160229\n",
      "negative     26260\n",
      "skip          7657\n",
      "positive      6477\n",
      "speech         994\n",
      "Name: rusentiment_model, dtype: int64 \n",
      "\n",
      "-------------------------------\n",
      "meduza_vk_comments_sen \n",
      "\n",
      "neutral     2643101\n",
      "negative     452424\n",
      "skip         126536\n",
      "positive     123163\n",
      "speech        14533\n",
      "Name: rusentiment_model, dtype: int64 \n",
      "\n",
      "-------------------------------\n",
      "rbc_vk_comments_2020-06-01_sen \n",
      "\n",
      "neutral     116782\n",
      "negative     20574\n",
      "skip          6142\n",
      "positive      4310\n",
      "speech         587\n",
      "Name: rusentiment_model, dtype: int64 \n",
      "\n",
      "-------------------------------\n",
      "rbc_vk_comments_sen \n",
      "\n",
      "neutral     4408288\n",
      "negative     822694\n",
      "skip         262986\n",
      "positive     177564\n",
      "speech        22182\n",
      "Name: rusentiment_model, dtype: int64 \n",
      "\n",
      "-------------------------------\n",
      "rg_vk_comments_2020-06-01_sen \n",
      "\n",
      "neutral     32306\n",
      "negative     4573\n",
      "positive     1587\n",
      "skip         1109\n",
      "speech        262\n",
      "Name: rusentiment_model, dtype: int64 \n",
      "\n",
      "-------------------------------\n",
      "rg_vk_comments_sen \n",
      "\n",
      "neutral     557671\n",
      "negative     85813\n",
      "positive     34232\n",
      "skip         22355\n",
      "speech        4140\n",
      "Name: rusentiment_model, dtype: int64 \n",
      "\n",
      "-------------------------------\n",
      "ria_vk_comments_2020-06-01_sen \n",
      "\n",
      "neutral     342492\n",
      "negative     63388\n",
      "positive     19676\n",
      "skip         16883\n",
      "speech        4246\n",
      "Name: rusentiment_model, dtype: int64 \n",
      "\n",
      "-------------------------------\n",
      "ria_vk_comments_sen \n",
      "\n",
      "neutral     5424227\n",
      "negative    1036759\n",
      "positive     383599\n",
      "skip         307297\n",
      "speech        57064\n",
      "Name: rusentiment_model, dtype: int64 \n",
      "\n",
      "-------------------------------\n",
      "rt_part1_vk_comments_sen \n",
      "\n",
      "neutral     3066772\n",
      "negative     564458\n",
      "skip         187706\n",
      "positive     155483\n",
      "speech        18111\n",
      "Name: rusentiment_model, dtype: int64 \n",
      "\n",
      "-------------------------------\n",
      "rt_part2_vk_comments_sen \n",
      "\n",
      "neutral     3476868\n",
      "negative     592324\n",
      "skip         206943\n",
      "positive     150845\n",
      "speech        18084\n",
      "Name: rusentiment_model, dtype: int64 \n",
      "\n",
      "-------------------------------\n",
      "rt_vk_comments_2020-06-01_sen \n",
      "\n",
      "neutral     555930\n",
      "negative     91761\n",
      "skip         33138\n",
      "positive     21426\n",
      "speech        3425\n",
      "Name: rusentiment_model, dtype: int64 \n",
      "\n",
      "-------------------------------\n",
      "tass_vk_comments_2020-06-01_sen \n",
      "\n",
      "neutral     110783\n",
      "negative     20106\n",
      "positive      5671\n",
      "skip          4829\n",
      "speech        1345\n",
      "Name: rusentiment_model, dtype: int64 \n",
      "\n",
      "-------------------------------\n",
      "tass_vk_comments_sen \n",
      "\n",
      "neutral     1445485\n",
      "negative     267333\n",
      "positive     106275\n",
      "skip          70079\n",
      "speech        19167\n",
      "Name: rusentiment_model, dtype: int64 \n",
      "\n",
      "-------------------------------\n",
      "vedomosty_vk_comments_2020-06-01_sen \n",
      "\n",
      "neutral     28119\n",
      "negative     4943\n",
      "skip         1319\n",
      "positive     1148\n",
      "speech        178\n",
      "Name: rusentiment_model, dtype: int64 \n",
      "\n",
      "-------------------------------\n",
      "vedomosty_vk_comments_sen \n",
      "\n",
      "neutral     617429\n",
      "negative    121432\n",
      "skip         29951\n",
      "positive     28811\n",
      "speech        3504\n",
      "Name: rusentiment_model, dtype: int64 \n",
      "\n",
      "-------------------------------\n"
     ]
    }
   ],
   "source": [
    "for file in files:\n",
    "    \n",
    "    print(file, '\\n')  \n",
    "    with open(path + 'comments/' + file, 'rb') as f:\n",
    "        comments = pickle.load(f)\n",
    "            \n",
    "    comments_sub = [\n",
    "        {\n",
    "            'post_id': item['post_id'], \n",
    "            'likes': item['likes'], \n",
    "            'rusentiment_model': item['rusentiment_model'][0].lower() \n",
    "                if len(item['rusentiment_model']) == 1 else item['rusentiment_model'],\n",
    "        } \n",
    "        for item in comments\n",
    "    ]\n",
    "    \n",
    "    df_com = pd.DataFrame(comments_sub)\n",
    "    print(df_com.rusentiment_model.value_counts(), '\\n')\n",
    "    \n",
    "    neg = lambda w: len([v for v in list(w) if v=='negative'])\n",
    "    pos = lambda w: len([v for v in list(w) if v=='positive'])\n",
    "    ano = lambda w: len([v for v in list(w) if v!='positive' and v!='negative'])\n",
    "\n",
    "    agg_fun = {\n",
    "        'rusentiment_model': {\n",
    "            'rusent_cnt': 'count', \n",
    "            'rusent_pos': pos, \n",
    "            'rusent_neg': neg, \n",
    "            'rusent_ano': ano\n",
    "        }\n",
    "    }\n",
    "\n",
    "    df_agg = df_com.groupby('post_id').agg(agg_fun).rusentiment_model    \n",
    "    dfs.append(df_agg)\n",
    "    \n",
    "    print(\"-------------------------------\")"
   ]
  },
  {
   "cell_type": "code",
   "execution_count": 62,
   "metadata": {},
   "outputs": [
    {
     "data": {
      "text/plain": [
       "24"
      ]
     },
     "execution_count": 62,
     "metadata": {},
     "output_type": "execute_result"
    }
   ],
   "source": [
    "len(dfs)"
   ]
  },
  {
   "cell_type": "code",
   "execution_count": 63,
   "metadata": {},
   "outputs": [
    {
     "data": {
      "text/plain": [
       "[(13402, 4),\n",
       " (3501, 4),\n",
       " (120178, 4),\n",
       " (3039, 4),\n",
       " (119694, 4),\n",
       " (29361, 4),\n",
       " (99, 4),\n",
       " (400, 4),\n",
       " (21309, 4),\n",
       " (2615, 4),\n",
       " (59523, 4),\n",
       " (1819, 4),\n",
       " (48472, 4),\n",
       " (4690, 4),\n",
       " (83757, 4),\n",
       " (3711, 4),\n",
       " (59611, 4),\n",
       " (46709, 4),\n",
       " (61963, 4),\n",
       " (8658, 4),\n",
       " (5470, 4),\n",
       " (113258, 4),\n",
       " (2105, 4),\n",
       " (42425, 4)]"
      ]
     },
     "execution_count": 63,
     "metadata": {},
     "output_type": "execute_result"
    }
   ],
   "source": [
    "[d.shape for d in dfs]"
   ]
  },
  {
   "cell_type": "code",
   "execution_count": 64,
   "metadata": {},
   "outputs": [
    {
     "name": "stdout",
     "output_type": "stream",
     "text": [
      "(855769, 4)\n"
     ]
    },
    {
     "data": {
      "text/plain": [
       "(809326, 4)"
      ]
     },
     "execution_count": 64,
     "metadata": {},
     "output_type": "execute_result"
    }
   ],
   "source": [
    "dff_big = pd.concat(dfs)\n",
    "print(dff_big.shape)\n",
    "\n",
    "dff_big = dff_big.reset_index().groupby('post_id').agg('max')\n",
    "dff_big.shape"
   ]
  },
  {
   "cell_type": "code",
   "execution_count": 89,
   "metadata": {},
   "outputs": [
    {
     "data": {
      "image/png": "[encoded data removed]",
      "text/plain": [
       "<Figure size 720x432 with 1 Axes>"
      ]
     },
     "metadata": {
      "needs_background": "light"
     },
     "output_type": "display_data"
    }
   ],
   "source": [
    "plt.figure(figsize=(10,6))\n",
    "(dff_big.rusent_neg/dff_big.rusent_cnt).hist(alpha=0.5, label=\"negative\", density=True, bins=30)\n",
    "(dff_big.rusent_pos/dff_big.rusent_cnt).hist(alpha=0.5, label=\"positive\", density=True, bins=30)\n",
    "(dff_big.rusent_ano/dff_big.rusent_cnt).hist(alpha=0.5, label=\"another\", density=True, bins=30)\n",
    "plt.legend();"
   ]
  },
  {
   "cell_type": "code",
   "execution_count": 65,
   "metadata": {},
   "outputs": [
    {
     "name": "stdout",
     "output_type": "stream",
     "text": [
      "(1184166, 13)\n"
     ]
    },
    {
     "data": {
      "text/plain": [
       "(1066388, 10)"
      ]
     },
     "execution_count": 65,
     "metadata": {},
     "output_type": "execute_result"
    }
   ],
   "source": [
    "with open(\"../news_parser/news_data/vk_news/posts/vk_posts_tag_lemm.pickle\", 'rb') as f:\n",
    "    posts = pickle.load(f)\n",
    "    \n",
    "df_post = pd.DataFrame(posts)\n",
    "print(df_post.shape)\n",
    "\n",
    "df_post['post_id'] = df_post['id']\n",
    "df_post.drop(['id', 'owner_id', 'from_id'], axis=1, inplace=True)\n",
    "df_post = df_post.drop_duplicates(subset='post_id')\n",
    "df_post.set_index(\"post_id\", inplace=True)\n",
    "df_post.shape"
   ]
  },
  {
   "cell_type": "code",
   "execution_count": 66,
   "metadata": {},
   "outputs": [
    {
     "name": "stdout",
     "output_type": "stream",
     "text": [
      "2018    256640\n",
      "2019    247763\n",
      "2017    165912\n",
      "2016    115405\n",
      "2020    103239\n",
      "2015     82890\n",
      "2014     52285\n",
      "2013     22531\n",
      "2012     15038\n",
      "2011      4684\n",
      "2010         1\n",
      "Name: date, dtype: int64 \n",
      "\n",
      "размер после 1 января 2012 года (1061703, 14) \n",
      "\n",
      "размер если коментов больше 10 (536307, 14) \n",
      "\n"
     ]
    },
    {
     "data": {
      "text/plain": [
       "likes            0.000000\n",
       "reposts          0.000000\n",
       "comments         0.000000\n",
       "text             0.000000\n",
       "date             0.000000\n",
       "url             54.426238\n",
       "title           54.426238\n",
       "text_tagged      0.000000\n",
       "title_tagged     0.000000\n",
       "source           0.000000\n",
       "rusent_cnt      23.976762\n",
       "rusent_pos      23.976762\n",
       "rusent_neg      23.976762\n",
       "rusent_ano      23.976762\n",
       "dtype: float64"
      ]
     },
     "execution_count": 66,
     "metadata": {},
     "output_type": "execute_result"
    }
   ],
   "source": [
    "df = pd.merge(df_post, dff_big, how='left', on='post_id')\n",
    "\n",
    "df['date'] = df.date.apply(lambda w: datetime.datetime.utcfromtimestamp(w).strftime('%Y-%m-%d'))\n",
    "print(df.date.apply(lambda w: w.split('-')[0]).value_counts(), '\\n')\n",
    "\n",
    "df = df[df.date >= '2012-01-01']\n",
    "print(f'размер после 1 января 2012 года {df.shape} \\n')\n",
    "print(f'размер если коментов больше 10 {df[df.comments >= 10].shape} \\n')\n",
    "\n",
    "100*df.isnull().sum()/df.shape[0]"
   ]
  },
  {
   "cell_type": "code",
   "execution_count": 72,
   "metadata": {},
   "outputs": [],
   "source": [
    "df['title_tagged'] = df.title_tagged.apply(lambda w: ' '.join(w))\n",
    "df['text_tagged'] = df.text_tagged.apply(lambda w: ' '.join(w))"
   ]
  },
  {
   "cell_type": "code",
   "execution_count": 75,
   "metadata": {},
   "outputs": [
    {
     "name": "stdout",
     "output_type": "stream",
     "text": [
      "<class 'pandas.core.frame.DataFrame'>\n",
      "Int64Index: 1061703 entries, 114353 to 1134425\n",
      "Data columns (total 14 columns):\n",
      "likes           1061703 non-null int64\n",
      "reposts         1061703 non-null int64\n",
      "comments        1061703 non-null int64\n",
      "text            1061703 non-null object\n",
      "date            1061703 non-null object\n",
      "url             483858 non-null object\n",
      "title           483858 non-null object\n",
      "text_tagged     1061703 non-null object\n",
      "title_tagged    1061703 non-null object\n",
      "source          1061703 non-null object\n",
      "rusent_cnt      807141 non-null float64\n",
      "rusent_pos      807141 non-null float64\n",
      "rusent_neg      807141 non-null float64\n",
      "rusent_ano      807141 non-null float64\n",
      "dtypes: float64(4), int64(3), object(7)\n",
      "memory usage: 121.5+ MB\n"
     ]
    }
   ],
   "source": [
    "df.info()"
   ]
  },
  {
   "cell_type": "code",
   "execution_count": 76,
   "metadata": {},
   "outputs": [],
   "source": [
    "df.to_csv('vk_post_sentiment.tsv', sep='\\t')"
   ]
  },
  {
   "cell_type": "code",
   "execution_count": 77,
   "metadata": {},
   "outputs": [
    {
     "data": {
      "text/html": [
       "<div>\n",
       "<style scoped>\n",
       "    .dataframe tbody tr th:only-of-type {\n",
       "        vertical-align: middle;\n",
       "    }\n",
       "\n",
       "    .dataframe tbody tr th {\n",
       "        vertical-align: top;\n",
       "    }\n",
       "\n",
       "    .dataframe thead th {\n",
       "        text-align: right;\n",
       "    }\n",
       "</style>\n",
       "<table border=\"1\" class=\"dataframe\">\n",
       "  <thead>\n",
       "    <tr style=\"text-align: right;\">\n",
       "      <th></th>\n",
       "      <th>likes</th>\n",
       "      <th>reposts</th>\n",
       "      <th>comments</th>\n",
       "      <th>text</th>\n",
       "      <th>date</th>\n",
       "      <th>url</th>\n",
       "      <th>title</th>\n",
       "      <th>text_tagged</th>\n",
       "      <th>title_tagged</th>\n",
       "      <th>source</th>\n",
       "      <th>rusent_cnt</th>\n",
       "      <th>rusent_pos</th>\n",
       "      <th>rusent_neg</th>\n",
       "      <th>rusent_ano</th>\n",
       "    </tr>\n",
       "    <tr>\n",
       "      <th>post_id</th>\n",
       "      <th></th>\n",
       "      <th></th>\n",
       "      <th></th>\n",
       "      <th></th>\n",
       "      <th></th>\n",
       "      <th></th>\n",
       "      <th></th>\n",
       "      <th></th>\n",
       "      <th></th>\n",
       "      <th></th>\n",
       "      <th></th>\n",
       "      <th></th>\n",
       "      <th></th>\n",
       "      <th></th>\n",
       "    </tr>\n",
       "  </thead>\n",
       "  <tbody>\n",
       "    <tr>\n",
       "      <th>114353</th>\n",
       "      <td>1</td>\n",
       "      <td>0</td>\n",
       "      <td>0</td>\n",
       "      <td>Скончался диктор Центрального телевидения Евге...</td>\n",
       "      <td>2019-02-02</td>\n",
       "      <td>https://www.interfax.ru/russia/648850</td>\n",
       "      <td>Скончался диктор Центрального телевидения Евге...</td>\n",
       "      <td>скончаться_VERB диктор_NOUN центральный_ADJ те...</td>\n",
       "      <td>скончаться_VERB диктор_NOUN центральный_ADJ те...</td>\n",
       "      <td>interfax_vk_posts</td>\n",
       "      <td>NaN</td>\n",
       "      <td>NaN</td>\n",
       "      <td>NaN</td>\n",
       "      <td>NaN</td>\n",
       "    </tr>\n",
       "    <tr>\n",
       "      <th>114352</th>\n",
       "      <td>0</td>\n",
       "      <td>0</td>\n",
       "      <td>0</td>\n",
       "      <td>Троим подозреваемым в причастности к теракту в...</td>\n",
       "      <td>2019-02-02</td>\n",
       "      <td>https://www.interfax.ru/world/648849</td>\n",
       "      <td>Троим подозреваемым в причастности к теракту в...</td>\n",
       "      <td>трое_NUM подозреваемый_NOUN в_ADP причастность...</td>\n",
       "      <td>трое_NUM подозреваемый_NOUN в_ADP причастность...</td>\n",
       "      <td>interfax_vk_posts</td>\n",
       "      <td>NaN</td>\n",
       "      <td>NaN</td>\n",
       "      <td>NaN</td>\n",
       "      <td>NaN</td>\n",
       "    </tr>\n",
       "    <tr>\n",
       "      <th>114351</th>\n",
       "      <td>0</td>\n",
       "      <td>0</td>\n",
       "      <td>0</td>\n",
       "      <td>Троим подозреваемым в причастности к теракту в...</td>\n",
       "      <td>2019-02-02</td>\n",
       "      <td>https://www.interfax.ru/world/648849</td>\n",
       "      <td>Троим подозреваемым в причастности к теракту в...</td>\n",
       "      <td>трое_NUM подозреваемый_NOUN в_ADP причастность...</td>\n",
       "      <td>трое_NUM подозреваемый_NOUN в_ADP причастность...</td>\n",
       "      <td>interfax_vk_posts</td>\n",
       "      <td>NaN</td>\n",
       "      <td>NaN</td>\n",
       "      <td>NaN</td>\n",
       "      <td>NaN</td>\n",
       "    </tr>\n",
       "    <tr>\n",
       "      <th>114350</th>\n",
       "      <td>0</td>\n",
       "      <td>0</td>\n",
       "      <td>0</td>\n",
       "      <td>Минэнерго США запретит своим ученым участвоват...</td>\n",
       "      <td>2019-02-02</td>\n",
       "      <td>https://www.interfax.ru/world/648847</td>\n",
       "      <td>Минэнерго США запретит своим ученым участвоват...</td>\n",
       "      <td>минэнерго_NOUN сша_NOUN запрещать_VERB свой_DE...</td>\n",
       "      <td>минэнерго_NOUN сша_NOUN запрещать_VERB свой_DE...</td>\n",
       "      <td>interfax_vk_posts</td>\n",
       "      <td>2.0</td>\n",
       "      <td>1.0</td>\n",
       "      <td>0.0</td>\n",
       "      <td>1.0</td>\n",
       "    </tr>\n",
       "    <tr>\n",
       "      <th>114349</th>\n",
       "      <td>2</td>\n",
       "      <td>1</td>\n",
       "      <td>0</td>\n",
       "      <td>Минэнерго США запретило своим ученым участвова...</td>\n",
       "      <td>2019-02-02</td>\n",
       "      <td>https://www.interfax.ru/world/648847</td>\n",
       "      <td>Минэнерго США запретило своим ученым участвова...</td>\n",
       "      <td>минэнерго_NOUN сша_NOUN запрещать_VERB свой_DE...</td>\n",
       "      <td>минэнерго_NOUN сша_NOUN запрещать_VERB свой_DE...</td>\n",
       "      <td>interfax_vk_posts</td>\n",
       "      <td>NaN</td>\n",
       "      <td>NaN</td>\n",
       "      <td>NaN</td>\n",
       "      <td>NaN</td>\n",
       "    </tr>\n",
       "  </tbody>\n",
       "</table>\n",
       "</div>"
      ],
      "text/plain": [
       "         likes  reposts  comments  \\\n",
       "post_id                             \n",
       "114353       1        0         0   \n",
       "114352       0        0         0   \n",
       "114351       0        0         0   \n",
       "114350       0        0         0   \n",
       "114349       2        1         0   \n",
       "\n",
       "                                                      text        date  \\\n",
       "post_id                                                                  \n",
       "114353   Скончался диктор Центрального телевидения Евге...  2019-02-02   \n",
       "114352   Троим подозреваемым в причастности к теракту в...  2019-02-02   \n",
       "114351   Троим подозреваемым в причастности к теракту в...  2019-02-02   \n",
       "114350   Минэнерго США запретит своим ученым участвоват...  2019-02-02   \n",
       "114349   Минэнерго США запретило своим ученым участвова...  2019-02-02   \n",
       "\n",
       "                                           url  \\\n",
       "post_id                                          \n",
       "114353   https://www.interfax.ru/russia/648850   \n",
       "114352    https://www.interfax.ru/world/648849   \n",
       "114351    https://www.interfax.ru/world/648849   \n",
       "114350    https://www.interfax.ru/world/648847   \n",
       "114349    https://www.interfax.ru/world/648847   \n",
       "\n",
       "                                                     title  \\\n",
       "post_id                                                      \n",
       "114353   Скончался диктор Центрального телевидения Евге...   \n",
       "114352   Троим подозреваемым в причастности к теракту в...   \n",
       "114351   Троим подозреваемым в причастности к теракту в...   \n",
       "114350   Минэнерго США запретит своим ученым участвоват...   \n",
       "114349   Минэнерго США запретило своим ученым участвова...   \n",
       "\n",
       "                                               text_tagged  \\\n",
       "post_id                                                      \n",
       "114353   скончаться_VERB диктор_NOUN центральный_ADJ те...   \n",
       "114352   трое_NUM подозреваемый_NOUN в_ADP причастность...   \n",
       "114351   трое_NUM подозреваемый_NOUN в_ADP причастность...   \n",
       "114350   минэнерго_NOUN сша_NOUN запрещать_VERB свой_DE...   \n",
       "114349   минэнерго_NOUN сша_NOUN запрещать_VERB свой_DE...   \n",
       "\n",
       "                                              title_tagged             source  \\\n",
       "post_id                                                                         \n",
       "114353   скончаться_VERB диктор_NOUN центральный_ADJ те...  interfax_vk_posts   \n",
       "114352   трое_NUM подозреваемый_NOUN в_ADP причастность...  interfax_vk_posts   \n",
       "114351   трое_NUM подозреваемый_NOUN в_ADP причастность...  interfax_vk_posts   \n",
       "114350   минэнерго_NOUN сша_NOUN запрещать_VERB свой_DE...  interfax_vk_posts   \n",
       "114349   минэнерго_NOUN сша_NOUN запрещать_VERB свой_DE...  interfax_vk_posts   \n",
       "\n",
       "         rusent_cnt  rusent_pos  rusent_neg  rusent_ano  \n",
       "post_id                                                  \n",
       "114353          NaN         NaN         NaN         NaN  \n",
       "114352          NaN         NaN         NaN         NaN  \n",
       "114351          NaN         NaN         NaN         NaN  \n",
       "114350          2.0         1.0         0.0         1.0  \n",
       "114349          NaN         NaN         NaN         NaN  "
      ]
     },
     "execution_count": 77,
     "metadata": {},
     "output_type": "execute_result"
    }
   ],
   "source": [
    "df.head()"
   ]
  },
  {
   "cell_type": "markdown",
   "metadata": {},
   "source": [
    " "
   ]
  },
  {
   "cell_type": "markdown",
   "metadata": {},
   "source": [
    "\n",
    "\n",
    "\n",
    "\n",
    "\n",
    "--------------------\n",
    "\n",
    "\n",
    "\n",
    "\n",
    "\n",
    "\n",
    "\n",
    "\n"
   ]
  }
 ],
 "metadata": {
  "kernelspec": {
   "display_name": "Python 3",
   "language": "python",
   "name": "python3"
  },
  "language_info": {
   "codemirror_mode": {
    "name": "ipython",
    "version": 3
   },
   "file_extension": ".py",
   "mimetype": "text/x-python",
   "name": "python",
   "nbconvert_exporter": "python",
   "pygments_lexer": "ipython3",
   "version": "3.9.0"
  }
 },
 "nbformat": 4,
 "nbformat_minor": 2
}
