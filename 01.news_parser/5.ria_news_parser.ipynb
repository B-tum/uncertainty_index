{
 "cells": [
  {
   "cell_type": "markdown",
   "metadata": {},
   "source": [
    "# РИА-Новости"
   ]
  },
  {
   "cell_type": "code",
   "execution_count": 1,
   "metadata": {},
   "outputs": [],
   "source": [
    "import requests\n",
    "import numpy as np\n",
    "import datetime\n",
    "import re\n",
    "from bs4 import BeautifulSoup\n",
    "\n",
    "from fake_useragent import UserAgent\n",
    "\n",
    "import time\n",
    "import datetime\n",
    "import pandas as pd\n",
    "import pickle\n",
    "\n",
    "from tqdm import tqdm\n",
    "from joblib import Parallel, delayed"
   ]
  },
  {
   "cell_type": "code",
   "execution_count": 2,
   "metadata": {},
   "outputs": [],
   "source": [
    "def Separator(vect, part):\n",
    "    n = len(vect)\n",
    "    vec_parts = [round(n/part)*i for i in range(part)]\n",
    "    vec_parts.append(n)\n",
    "    out = [vect[vec_parts[i]:vec_parts[i+1]] for i in range(part)]\n",
    "    return(out)\n",
    "\n",
    "def get_soup(url):\n",
    "    response = requests.get(url)\n",
    "    html = response.content\n",
    "    soup = BeautifulSoup(html,'html.parser')\n",
    "    return soup"
   ]
  },
  {
   "cell_type": "markdown",
   "metadata": {},
   "source": [
    "## 1. Download hrefs"
   ]
  },
  {
   "cell_type": "code",
   "execution_count": 6,
   "metadata": {},
   "outputs": [],
   "source": [
    "url = 'https://ria.ru/services/archive/more.html?id=1572375708&date=20201025T140000'\n",
    "news_information = [ ]"
   ]
  },
  {
   "cell_type": "code",
   "execution_count": 23,
   "metadata": {
    "scrolled": true
   },
   "outputs": [
    {
     "name": "stdout",
     "output_type": "stream",
     "text": [
      "2020-06-03 3 июня, 21:24\n",
      "Проблемы с датой 02062020\n",
      "Проблемы с датой 01062020\n"
     ]
    }
   ],
   "source": [
    "for i in range(10**6):\n",
    "    \n",
    "    soup = get_soup(url)\n",
    "    url = 'https://ria.ru/' + soup.div.get('data-next-url')\n",
    "\n",
    "    news = soup.find_all('div', {'class' : \"list-item\"})\n",
    "    for item in news:\n",
    "        inf = { }\n",
    "        inf['href'] = item.a.get(\"href\")\n",
    "        try:\n",
    "            predate = item.a.get(\"href\").split('/')[-2]\n",
    "            inf['date'] = predate[:4] + '-' + predate[4:6] + '-' + predate[6:]\n",
    "        except:\n",
    "            print('Проблемы с датой', inf['href'])\n",
    "            inf['date'] = inf['href']\n",
    "        inf['time'] = item.find(\"div\", {\"class\" : \"list-item__date\"}).text\n",
    "        inf['title'] = item.find(\"a\", {\"class\": \"list-item__title\"}).text\n",
    "        news_information.append(inf)\n",
    "        \n",
    "    if i % 500 == 0:    \n",
    "        print(inf['date'], inf['time'])\n",
    "        \n",
    "    if inf['date'][:7] == '2020-05':\n",
    "        break"
   ]
  },
  {
   "cell_type": "code",
   "execution_count": 24,
   "metadata": {},
   "outputs": [
    {
     "data": {
      "text/plain": [
       "{'href': 'https://ria.ru/20200531/1572262866.html',\n",
       " 'date': '2020-05-31',\n",
       " 'time': '31 мая, 23:34',\n",
       " 'title': 'Астронавт Бенкен рассказал об ощущениях от полета на Crew Dragon '}"
      ]
     },
     "execution_count": 24,
     "metadata": {},
     "output_type": "execute_result"
    }
   ],
   "source": [
    "news_information[-1]"
   ]
  },
  {
   "cell_type": "code",
   "execution_count": 30,
   "metadata": {},
   "outputs": [
    {
     "name": "stdout",
     "output_type": "stream",
     "text": [
      "(121920, 4)\n",
      "(121658, 4)\n"
     ]
    },
    {
     "data": {
      "text/plain": [
       "{'href': 'https://ria.ru/20201025/serebro-1581440663.html',\n",
       " 'date': '2020-10-25',\n",
       " 'time': '13:36',\n",
       " 'title': 'Фигура экс-солистки “Серебра” вызвала споры среди поклонников '}"
      ]
     },
     "execution_count": 30,
     "metadata": {},
     "output_type": "execute_result"
    }
   ],
   "source": [
    "df = pd.DataFrame(news_information)\n",
    "print(df.shape)\n",
    "df.drop_duplicates(subset = ['href','date'],inplace=True)\n",
    "print(df.shape)\n",
    "\n",
    "real_date = [ ]\n",
    "years = {str(item) for item in range(2004,2021)}\n",
    "base_date = df.date.iloc[0]\n",
    "for item in df.date:\n",
    "    if item[:4] in years:\n",
    "        base_date = item\n",
    "        real_date.append(item)\n",
    "    else:\n",
    "        real_date.append(base_date)\n",
    "\n",
    "        \n",
    "df.date = real_date\n",
    "x = df.to_dict('records')\n",
    "x[0]"
   ]
  },
  {
   "cell_type": "code",
   "execution_count": 33,
   "metadata": {},
   "outputs": [
    {
     "name": "stdout",
     "output_type": "stream",
     "text": [
      "\u001b[1m\u001b[34mlemm\u001b[m\u001b[m\r\n"
     ]
    }
   ],
   "source": [
    "!ls news_data/5.ria"
   ]
  },
  {
   "cell_type": "code",
   "execution_count": 34,
   "metadata": {},
   "outputs": [],
   "source": [
    "# x_2020 = [item for item in x if item['date'][:4] == '2019']\n",
    "\n",
    "with open('news_data/5.ria/titles_new', 'wb') as f:\n",
    "    pickle.dump(x, f)\n",
    "    \n",
    "# x_2018 = [item for item in x if item['date'][:4] == '2018']\n",
    "\n",
    "# with open('ria_titles_2018.pickle', 'wb') as f:\n",
    "#     pickle.dump(x_2018, f)"
   ]
  },
  {
   "cell_type": "markdown",
   "metadata": {},
   "source": [
    "## 2. Download news\n",
    "\n",
    "Скрипт ниже с одного ip работает максимально в два потока, иначе сервер выбрасывает на с сайта. Из-за того, что мне было лень паралелить через тор всё это с разными ip, я просто поднял в яндекс-облаке 6 машин и на каждой качал свой батч в два потока. "
   ]
  },
  {
   "cell_type": "code",
   "execution_count": 4,
   "metadata": {},
   "outputs": [
    {
     "name": "stdout",
     "output_type": "stream",
     "text": [
      "\u001b[1m\u001b[34mlemm\u001b[m\u001b[m       titles_new\r\n"
     ]
    }
   ],
   "source": [
    "!ls news_data/5.ria"
   ]
  },
  {
   "cell_type": "code",
   "execution_count": 3,
   "metadata": {},
   "outputs": [],
   "source": [
    "with open('news_data/5.ria/titles_new', 'rb') as f:\n",
    "    x_2020 = pickle.load(f)"
   ]
  },
  {
   "cell_type": "code",
   "execution_count": 4,
   "metadata": {},
   "outputs": [
    {
     "data": {
      "text/plain": [
       "121658"
      ]
     },
     "execution_count": 4,
     "metadata": {},
     "output_type": "execute_result"
    }
   ],
   "source": [
    "len(x_2020)"
   ]
  },
  {
   "cell_type": "code",
   "execution_count": 5,
   "metadata": {},
   "outputs": [],
   "source": [
    "def get_ria_news(item_from_vect):\n",
    "    url = item_from_vect['href']\n",
    "    try:\n",
    "        soup = get_soup(url)\n",
    "        text = soup.find_all('div', {'class' : 'article__text'})\n",
    "\n",
    "        item_from_vect['year'] = item_from_vect['date'].split('-')[0]\n",
    "        item_from_vect['month'] = item_from_vect['date'].split('-')[1]\n",
    "        item_from_vect['day'] = item_from_vect['date'].split('-')[2]\n",
    "\n",
    "        item_from_vect['snippet'] = soup.find_all('meta',  {'name' : 'description'})[0].get('content')\n",
    "        item_from_vect['text'] = ' '.join([tx.text for tx in text])\n",
    "\n",
    "        # категория\n",
    "        item_from_vect['category'] = soup.find_all('meta', {'name' : 'analytics:rubric'})[0].get('content')\n",
    "\n",
    "        # полезная метаинформация \n",
    "        item_from_vect['keywords'] = soup.find_all('meta', {'name' : 'keywords'})[0].get('content')\n",
    "        item_from_vect['tags'] = soup.find_all('meta',  {'name' : 'analytics:tags'})[0].get('content')\n",
    "\n",
    "        # число показов страницы\n",
    "        # item_from_vect['shows'] = soup.find_all('span', {\"class\" : \"statistic__item m-views\"})[0].text\n",
    "\n",
    "        # хз пригодится ли, но ссылка на титульную картинку \n",
    "        item_from_vect['image'] = soup.find_all('meta',  {'property' : 'og:image'})[0].get('content')\n",
    "        return item_from_vect\n",
    "    \n",
    "    except:\n",
    "        \n",
    "        print(url)\n",
    "        return item_from_vect"
   ]
  },
  {
   "cell_type": "code",
   "execution_count": 6,
   "metadata": {},
   "outputs": [
    {
     "ename": "NameError",
     "evalue": "name 'item_from_vect' is not defined",
     "output_type": "error",
     "traceback": [
      "\u001b[0;31m---------------------------------------------------------------------------\u001b[0m",
      "\u001b[0;31mNameError\u001b[0m                                 Traceback (most recent call last)",
      "\u001b[0;32m<ipython-input-6-fb84f60acddb>\u001b[0m in \u001b[0;36m<module>\u001b[0;34m\u001b[0m\n\u001b[0;32m----> 1\u001b[0;31m \u001b[0mget_ria_news\u001b[0m\u001b[0;34m(\u001b[0m\u001b[0mitem_from_vect\u001b[0m\u001b[0;34m)\u001b[0m\u001b[0;34m\u001b[0m\u001b[0;34m\u001b[0m\u001b[0m\n\u001b[0m",
      "\u001b[0;31mNameError\u001b[0m: name 'item_from_vect' is not defined"
     ]
    }
   ],
   "source": [
    "get_ria_news(item_from_vect)"
   ]
  },
  {
   "cell_type": "code",
   "execution_count": 13,
   "metadata": {},
   "outputs": [
    {
     "name": "stderr",
     "output_type": "stream",
     "text": [
      "  1%|          | 1/122 [04:13<8:31:27, 253.61s/it]"
     ]
    },
    {
     "name": "stdout",
     "output_type": "stream",
     "text": [
      "Скачал батч номер 0\n",
      "Сейчас у нас есть 243 новостей\n",
      "Сделано 0 ошибок\n"
     ]
    },
    {
     "name": "stderr",
     "output_type": "stream",
     "text": [
      "\r",
      "  2%|▏         | 2/122 [07:44<8:01:21, 240.68s/it]"
     ]
    },
    {
     "name": "stdout",
     "output_type": "stream",
     "text": [
      "Скачал батч номер 1\n",
      "Сейчас у нас есть 486 новостей\n",
      "Сделано 0 ошибок\n"
     ]
    },
    {
     "name": "stderr",
     "output_type": "stream",
     "text": [
      "\r",
      "  2%|▏         | 3/122 [12:33<8:26:27, 255.36s/it]"
     ]
    },
    {
     "name": "stdout",
     "output_type": "stream",
     "text": [
      "Скачал батч номер 2\n",
      "Сейчас у нас есть 729 новостей\n",
      "Сделано 0 ошибок\n"
     ]
    },
    {
     "name": "stderr",
     "output_type": "stream",
     "text": [
      "\r",
      "  3%|▎         | 4/122 [16:41<8:17:41, 253.06s/it]"
     ]
    },
    {
     "name": "stdout",
     "output_type": "stream",
     "text": [
      "Скачал батч номер 3\n",
      "Сейчас у нас есть 972 новостей\n",
      "Сделано 0 ошибок\n"
     ]
    },
    {
     "name": "stderr",
     "output_type": "stream",
     "text": [
      "\r",
      "  4%|▍         | 5/122 [19:05<7:09:56, 220.49s/it]"
     ]
    },
    {
     "name": "stdout",
     "output_type": "stream",
     "text": [
      "Скачал батч номер 4\n",
      "Сейчас у нас есть 1215 новостей\n",
      "Сделано 0 ошибок\n"
     ]
    },
    {
     "name": "stderr",
     "output_type": "stream",
     "text": [
      "\r",
      "  5%|▍         | 6/122 [22:19<6:50:40, 212.41s/it]"
     ]
    },
    {
     "name": "stdout",
     "output_type": "stream",
     "text": [
      "Скачал батч номер 5\n",
      "Сейчас у нас есть 1458 новостей\n",
      "Сделано 0 ошибок\n"
     ]
    },
    {
     "name": "stderr",
     "output_type": "stream",
     "text": [
      "\r",
      "  6%|▌         | 7/122 [25:24<6:31:10, 204.09s/it]"
     ]
    },
    {
     "name": "stdout",
     "output_type": "stream",
     "text": [
      "Скачал батч номер 6\n",
      "Сейчас у нас есть 1701 новостей\n",
      "Сделано 0 ошибок\n"
     ]
    },
    {
     "name": "stderr",
     "output_type": "stream",
     "text": [
      "\r",
      "  7%|▋         | 8/122 [27:38<5:48:14, 183.29s/it]"
     ]
    },
    {
     "name": "stdout",
     "output_type": "stream",
     "text": [
      "Скачал батч номер 7\n",
      "Сейчас у нас есть 1944 новостей\n",
      "Сделано 0 ошибок\n"
     ]
    },
    {
     "name": "stderr",
     "output_type": "stream",
     "text": [
      "\r",
      "  7%|▋         | 9/122 [31:41<6:18:44, 201.10s/it]"
     ]
    },
    {
     "name": "stdout",
     "output_type": "stream",
     "text": [
      "Скачал батч номер 8\n",
      "Сейчас у нас есть 2186 новостей\n",
      "Сделано 1 ошибок\n"
     ]
    },
    {
     "name": "stderr",
     "output_type": "stream",
     "text": [
      "\r",
      "  8%|▊         | 10/122 [35:18<6:24:25, 205.94s/it]"
     ]
    },
    {
     "name": "stdout",
     "output_type": "stream",
     "text": [
      "Скачал батч номер 9\n",
      "Сейчас у нас есть 2429 новостей\n",
      "Сделано 1 ошибок\n"
     ]
    },
    {
     "name": "stderr",
     "output_type": "stream",
     "text": [
      "\r",
      "  9%|▉         | 11/122 [38:05<5:59:06, 194.12s/it]"
     ]
    },
    {
     "name": "stdout",
     "output_type": "stream",
     "text": [
      "Скачал батч номер 10\n",
      "Сейчас у нас есть 2672 новостей\n",
      "Сделано 1 ошибок\n"
     ]
    },
    {
     "name": "stderr",
     "output_type": "stream",
     "text": [
      "\r",
      " 10%|▉         | 12/122 [41:25<5:59:05, 195.87s/it]"
     ]
    },
    {
     "name": "stdout",
     "output_type": "stream",
     "text": [
      "Скачал батч номер 11\n",
      "Сейчас у нас есть 2915 новостей\n",
      "Сделано 1 ошибок\n"
     ]
    },
    {
     "name": "stderr",
     "output_type": "stream",
     "text": [
      "\r",
      " 11%|█         | 13/122 [44:19<5:44:03, 189.39s/it]"
     ]
    },
    {
     "name": "stdout",
     "output_type": "stream",
     "text": [
      "Скачал батч номер 12\n",
      "Сейчас у нас есть 3158 новостей\n",
      "Сделано 1 ошибок\n"
     ]
    },
    {
     "name": "stderr",
     "output_type": "stream",
     "text": [
      "\r",
      " 11%|█▏        | 14/122 [47:56<5:55:45, 197.64s/it]"
     ]
    },
    {
     "name": "stdout",
     "output_type": "stream",
     "text": [
      "Скачал батч номер 13\n",
      "Сейчас у нас есть 3401 новостей\n",
      "Сделано 1 ошибок\n"
     ]
    },
    {
     "name": "stderr",
     "output_type": "stream",
     "text": [
      "\r",
      " 12%|█▏        | 15/122 [51:23<5:57:34, 200.51s/it]"
     ]
    },
    {
     "name": "stdout",
     "output_type": "stream",
     "text": [
      "Скачал батч номер 14\n",
      "Сейчас у нас есть 3644 новостей\n",
      "Сделано 1 ошибок\n"
     ]
    },
    {
     "name": "stderr",
     "output_type": "stream",
     "text": [
      "\r",
      " 13%|█▎        | 16/122 [54:08<5:35:07, 189.69s/it]"
     ]
    },
    {
     "name": "stdout",
     "output_type": "stream",
     "text": [
      "Скачал батч номер 15\n",
      "Сейчас у нас есть 3887 новостей\n",
      "Сделано 1 ошибок\n"
     ]
    },
    {
     "name": "stderr",
     "output_type": "stream",
     "text": [
      "\r",
      " 14%|█▍        | 17/122 [57:20<5:33:35, 190.62s/it]"
     ]
    },
    {
     "name": "stdout",
     "output_type": "stream",
     "text": [
      "Скачал батч номер 16\n",
      "Сейчас у нас есть 4130 новостей\n",
      "Сделано 1 ошибок\n"
     ]
    },
    {
     "name": "stderr",
     "output_type": "stream",
     "text": [
      "\r",
      " 15%|█▍        | 18/122 [1:01:59<6:16:10, 217.03s/it]"
     ]
    },
    {
     "name": "stdout",
     "output_type": "stream",
     "text": [
      "Скачал батч номер 17\n",
      "Сейчас у нас есть 4373 новостей\n",
      "Сделано 1 ошибок\n"
     ]
    },
    {
     "name": "stderr",
     "output_type": "stream",
     "text": [
      "\r",
      " 16%|█▌        | 19/122 [1:04:55<5:51:24, 204.70s/it]"
     ]
    },
    {
     "name": "stdout",
     "output_type": "stream",
     "text": [
      "Скачал батч номер 18\n",
      "Сейчас у нас есть 4616 новостей\n",
      "Сделано 1 ошибок\n"
     ]
    },
    {
     "name": "stderr",
     "output_type": "stream",
     "text": [
      "\r",
      " 16%|█▋        | 20/122 [1:07:36<5:25:32, 191.49s/it]"
     ]
    },
    {
     "name": "stdout",
     "output_type": "stream",
     "text": [
      "Скачал батч номер 19\n",
      "Сейчас у нас есть 4859 новостей\n",
      "Сделано 1 ошибок\n"
     ]
    },
    {
     "name": "stderr",
     "output_type": "stream",
     "text": [
      "\r",
      " 17%|█▋        | 21/122 [1:09:55<4:55:53, 175.78s/it]"
     ]
    },
    {
     "name": "stdout",
     "output_type": "stream",
     "text": [
      "Скачал батч номер 20\n",
      "Сейчас у нас есть 5102 новостей\n",
      "Сделано 1 ошибок\n"
     ]
    },
    {
     "name": "stderr",
     "output_type": "stream",
     "text": [
      "\r",
      " 18%|█▊        | 22/122 [1:13:08<5:01:56, 181.16s/it]"
     ]
    },
    {
     "name": "stdout",
     "output_type": "stream",
     "text": [
      "Скачал батч номер 21\n",
      "Сейчас у нас есть 5345 новостей\n",
      "Сделано 1 ошибок\n"
     ]
    },
    {
     "name": "stderr",
     "output_type": "stream",
     "text": [
      "\r",
      " 19%|█▉        | 23/122 [1:15:54<4:51:02, 176.39s/it]"
     ]
    },
    {
     "name": "stdout",
     "output_type": "stream",
     "text": [
      "Скачал батч номер 22\n",
      "Сейчас у нас есть 5587 новостей\n",
      "Сделано 2 ошибок\n"
     ]
    },
    {
     "name": "stderr",
     "output_type": "stream",
     "text": [
      "\r",
      " 20%|█▉        | 24/122 [1:19:24<5:04:51, 186.65s/it]"
     ]
    },
    {
     "name": "stdout",
     "output_type": "stream",
     "text": [
      "Скачал батч номер 23\n",
      "Сейчас у нас есть 5830 новостей\n",
      "Сделано 2 ошибок\n"
     ]
    },
    {
     "name": "stderr",
     "output_type": "stream",
     "text": [
      "\r",
      " 20%|██        | 25/122 [1:22:24<4:58:21, 184.55s/it]"
     ]
    },
    {
     "name": "stdout",
     "output_type": "stream",
     "text": [
      "Скачал батч номер 24\n",
      "Сейчас у нас есть 6073 новостей\n",
      "Сделано 2 ошибок\n"
     ]
    },
    {
     "name": "stderr",
     "output_type": "stream",
     "text": [
      "\r",
      " 21%|██▏       | 26/122 [1:26:03<5:11:39, 194.79s/it]"
     ]
    },
    {
     "name": "stdout",
     "output_type": "stream",
     "text": [
      "Скачал батч номер 25\n",
      "Сейчас у нас есть 6316 новостей\n",
      "Сделано 2 ошибок\n"
     ]
    },
    {
     "name": "stderr",
     "output_type": "stream",
     "text": [
      "\r",
      " 22%|██▏       | 27/122 [1:29:11<5:05:32, 192.98s/it]"
     ]
    },
    {
     "name": "stdout",
     "output_type": "stream",
     "text": [
      "Скачал батч номер 26\n",
      "Сейчас у нас есть 6559 новостей\n",
      "Сделано 2 ошибок\n"
     ]
    },
    {
     "name": "stderr",
     "output_type": "stream",
     "text": [
      "\r",
      " 23%|██▎       | 28/122 [1:32:31<5:05:32, 195.02s/it]"
     ]
    },
    {
     "name": "stdout",
     "output_type": "stream",
     "text": [
      "Скачал батч номер 27\n",
      "Сейчас у нас есть 6802 новостей\n",
      "Сделано 2 ошибок\n"
     ]
    },
    {
     "name": "stderr",
     "output_type": "stream",
     "text": [
      "\r",
      " 24%|██▍       | 29/122 [1:35:35<4:57:17, 191.80s/it]"
     ]
    },
    {
     "name": "stdout",
     "output_type": "stream",
     "text": [
      "Скачал батч номер 28\n",
      "Сейчас у нас есть 7045 новостей\n",
      "Сделано 2 ошибок\n"
     ]
    },
    {
     "name": "stderr",
     "output_type": "stream",
     "text": [
      "\r",
      " 25%|██▍       | 30/122 [1:38:11<4:37:13, 180.80s/it]"
     ]
    },
    {
     "name": "stdout",
     "output_type": "stream",
     "text": [
      "Скачал батч номер 29\n",
      "Сейчас у нас есть 7288 новостей\n",
      "Сделано 2 ошибок\n"
     ]
    },
    {
     "name": "stderr",
     "output_type": "stream",
     "text": [
      "\r",
      " 25%|██▌       | 31/122 [1:42:56<5:21:39, 212.09s/it]"
     ]
    },
    {
     "name": "stdout",
     "output_type": "stream",
     "text": [
      "Скачал батч номер 30\n",
      "Сейчас у нас есть 7530 новостей\n",
      "Сделано 3 ошибок\n"
     ]
    },
    {
     "name": "stderr",
     "output_type": "stream",
     "text": [
      "\r",
      " 26%|██▌       | 32/122 [1:45:40<4:56:36, 197.74s/it]"
     ]
    },
    {
     "name": "stdout",
     "output_type": "stream",
     "text": [
      "Скачал батч номер 31\n",
      "Сейчас у нас есть 7773 новостей\n",
      "Сделано 3 ошибок\n"
     ]
    },
    {
     "name": "stderr",
     "output_type": "stream",
     "text": [
      "\r",
      " 27%|██▋       | 33/122 [1:48:11<4:32:43, 183.86s/it]"
     ]
    },
    {
     "name": "stdout",
     "output_type": "stream",
     "text": [
      "Скачал батч номер 32\n",
      "Сейчас у нас есть 8016 новостей\n",
      "Сделано 3 ошибок\n"
     ]
    },
    {
     "name": "stderr",
     "output_type": "stream",
     "text": [
      "\r",
      " 28%|██▊       | 34/122 [1:51:26<4:34:33, 187.20s/it]"
     ]
    },
    {
     "name": "stdout",
     "output_type": "stream",
     "text": [
      "Скачал батч номер 33\n",
      "Сейчас у нас есть 8259 новостей\n",
      "Сделано 3 ошибок\n"
     ]
    },
    {
     "name": "stderr",
     "output_type": "stream",
     "text": [
      "\r",
      " 29%|██▊       | 35/122 [1:54:30<4:29:47, 186.07s/it]"
     ]
    },
    {
     "name": "stdout",
     "output_type": "stream",
     "text": [
      "Скачал батч номер 34\n",
      "Сейчас у нас есть 8502 новостей\n",
      "Сделано 3 ошибок\n"
     ]
    },
    {
     "name": "stderr",
     "output_type": "stream",
     "text": [
      "\r",
      " 30%|██▉       | 36/122 [1:58:43<4:55:36, 206.24s/it]"
     ]
    },
    {
     "name": "stdout",
     "output_type": "stream",
     "text": [
      "Скачал батч номер 35\n",
      "Сейчас у нас есть 8744 новостей\n",
      "Сделано 4 ошибок\n"
     ]
    },
    {
     "name": "stderr",
     "output_type": "stream",
     "text": [
      "\r",
      " 30%|███       | 37/122 [2:01:26<4:33:48, 193.27s/it]"
     ]
    },
    {
     "name": "stdout",
     "output_type": "stream",
     "text": [
      "Скачал батч номер 36\n",
      "Сейчас у нас есть 8987 новостей\n",
      "Сделано 4 ошибок\n"
     ]
    },
    {
     "name": "stderr",
     "output_type": "stream",
     "text": [
      "\r",
      " 31%|███       | 38/122 [2:04:01<4:14:22, 181.70s/it]"
     ]
    },
    {
     "name": "stdout",
     "output_type": "stream",
     "text": [
      "Скачал батч номер 37\n",
      "Сейчас у нас есть 9230 новостей\n",
      "Сделано 4 ошибок\n"
     ]
    },
    {
     "name": "stderr",
     "output_type": "stream",
     "text": [
      "\r",
      " 32%|███▏      | 39/122 [2:07:36<4:25:20, 191.81s/it]"
     ]
    },
    {
     "name": "stdout",
     "output_type": "stream",
     "text": [
      "Скачал батч номер 38\n",
      "Сейчас у нас есть 9473 новостей\n",
      "Сделано 4 ошибок\n"
     ]
    },
    {
     "name": "stderr",
     "output_type": "stream",
     "text": [
      "\r",
      " 33%|███▎      | 40/122 [2:10:24<4:12:22, 184.67s/it]"
     ]
    },
    {
     "name": "stdout",
     "output_type": "stream",
     "text": [
      "Скачал батч номер 39\n",
      "Сейчас у нас есть 9716 новостей\n",
      "Сделано 4 ошибок\n"
     ]
    },
    {
     "name": "stderr",
     "output_type": "stream",
     "text": [
      "\r",
      " 34%|███▎      | 41/122 [2:13:10<4:01:46, 179.10s/it]"
     ]
    },
    {
     "name": "stdout",
     "output_type": "stream",
     "text": [
      "Скачал батч номер 40\n",
      "Сейчас у нас есть 9959 новостей\n",
      "Сделано 4 ошибок\n"
     ]
    },
    {
     "name": "stderr",
     "output_type": "stream",
     "text": [
      "\r",
      " 34%|███▍      | 42/122 [2:16:56<4:17:28, 193.11s/it]"
     ]
    },
    {
     "name": "stdout",
     "output_type": "stream",
     "text": [
      "Скачал батч номер 41\n",
      "Сейчас у нас есть 10202 новостей\n",
      "Сделано 4 ошибок\n"
     ]
    },
    {
     "name": "stderr",
     "output_type": "stream",
     "text": [
      "\r",
      " 35%|███▌      | 43/122 [2:19:34<4:00:30, 182.67s/it]"
     ]
    },
    {
     "name": "stdout",
     "output_type": "stream",
     "text": [
      "Скачал батч номер 42\n",
      "Сейчас у нас есть 10445 новостей\n",
      "Сделано 4 ошибок\n"
     ]
    },
    {
     "name": "stderr",
     "output_type": "stream",
     "text": [
      "\r",
      " 36%|███▌      | 44/122 [2:23:13<4:11:16, 193.28s/it]"
     ]
    },
    {
     "name": "stdout",
     "output_type": "stream",
     "text": [
      "Скачал батч номер 43\n",
      "Сейчас у нас есть 10688 новостей\n",
      "Сделано 4 ошибок\n"
     ]
    },
    {
     "name": "stderr",
     "output_type": "stream",
     "text": [
      "\r",
      " 37%|███▋      | 45/122 [2:25:56<3:56:23, 184.21s/it]"
     ]
    },
    {
     "name": "stdout",
     "output_type": "stream",
     "text": [
      "Скачал батч номер 44\n",
      "Сейчас у нас есть 10931 новостей\n",
      "Сделано 4 ошибок\n"
     ]
    },
    {
     "name": "stderr",
     "output_type": "stream",
     "text": [
      "\r",
      " 38%|███▊      | 46/122 [2:28:13<3:35:32, 170.16s/it]"
     ]
    },
    {
     "name": "stdout",
     "output_type": "stream",
     "text": [
      "Скачал батч номер 45\n",
      "Сейчас у нас есть 11174 новостей\n",
      "Сделано 4 ошибок\n"
     ]
    },
    {
     "name": "stderr",
     "output_type": "stream",
     "text": [
      "\r",
      " 39%|███▊      | 47/122 [2:30:17<3:15:24, 156.33s/it]"
     ]
    },
    {
     "name": "stdout",
     "output_type": "stream",
     "text": [
      "Скачал батч номер 46\n",
      "Сейчас у нас есть 11417 новостей\n",
      "Сделано 4 ошибок\n"
     ]
    },
    {
     "name": "stderr",
     "output_type": "stream",
     "text": [
      "\r",
      " 39%|███▉      | 48/122 [2:33:10<3:18:55, 161.29s/it]"
     ]
    },
    {
     "name": "stdout",
     "output_type": "stream",
     "text": [
      "Скачал батч номер 47\n",
      "Сейчас у нас есть 11660 новостей\n",
      "Сделано 4 ошибок\n"
     ]
    },
    {
     "name": "stderr",
     "output_type": "stream",
     "text": [
      "\r",
      " 40%|████      | 49/122 [2:35:44<3:13:29, 159.04s/it]"
     ]
    },
    {
     "name": "stdout",
     "output_type": "stream",
     "text": [
      "Скачал батч номер 48\n",
      "Сейчас у нас есть 11903 новостей\n",
      "Сделано 4 ошибок\n"
     ]
    },
    {
     "name": "stderr",
     "output_type": "stream",
     "text": [
      "\r",
      " 41%|████      | 50/122 [2:38:34<3:14:59, 162.50s/it]"
     ]
    },
    {
     "name": "stdout",
     "output_type": "stream",
     "text": [
      "Скачал батч номер 49\n",
      "Сейчас у нас есть 12146 новостей\n",
      "Сделано 4 ошибок\n"
     ]
    },
    {
     "name": "stderr",
     "output_type": "stream",
     "text": [
      "\r",
      " 42%|████▏     | 51/122 [2:41:15<3:11:45, 162.06s/it]"
     ]
    },
    {
     "name": "stdout",
     "output_type": "stream",
     "text": [
      "Скачал батч номер 50\n",
      "Сейчас у нас есть 12388 новостей\n",
      "Сделано 5 ошибок\n"
     ]
    },
    {
     "name": "stderr",
     "output_type": "stream",
     "text": [
      "\r",
      " 43%|████▎     | 52/122 [2:44:47<3:26:17, 176.82s/it]"
     ]
    },
    {
     "name": "stdout",
     "output_type": "stream",
     "text": [
      "Скачал батч номер 51\n",
      "Сейчас у нас есть 12631 новостей\n",
      "Сделано 5 ошибок\n"
     ]
    },
    {
     "name": "stderr",
     "output_type": "stream",
     "text": [
      "\r",
      " 43%|████▎     | 53/122 [2:47:00<3:08:16, 163.72s/it]"
     ]
    },
    {
     "name": "stdout",
     "output_type": "stream",
     "text": [
      "Скачал батч номер 52\n",
      "Сейчас у нас есть 12874 новостей\n",
      "Сделано 5 ошибок\n"
     ]
    },
    {
     "name": "stderr",
     "output_type": "stream",
     "text": [
      "\r",
      " 44%|████▍     | 54/122 [2:50:34<3:22:45, 178.90s/it]"
     ]
    },
    {
     "name": "stdout",
     "output_type": "stream",
     "text": [
      "Скачал батч номер 53\n",
      "Сейчас у нас есть 13117 новостей\n",
      "Сделано 5 ошибок\n"
     ]
    },
    {
     "name": "stderr",
     "output_type": "stream",
     "text": [
      "\r",
      " 45%|████▌     | 55/122 [2:53:55<3:27:10, 185.54s/it]"
     ]
    },
    {
     "name": "stdout",
     "output_type": "stream",
     "text": [
      "Скачал батч номер 54\n",
      "Сейчас у нас есть 13360 новостей\n",
      "Сделано 5 ошибок\n"
     ]
    },
    {
     "name": "stderr",
     "output_type": "stream",
     "text": [
      "\r",
      " 46%|████▌     | 56/122 [2:56:57<3:23:04, 184.61s/it]"
     ]
    },
    {
     "name": "stdout",
     "output_type": "stream",
     "text": [
      "Скачал батч номер 55\n",
      "Сейчас у нас есть 13603 новостей\n",
      "Сделано 5 ошибок\n"
     ]
    },
    {
     "name": "stderr",
     "output_type": "stream",
     "text": [
      "\r",
      " 47%|████▋     | 57/122 [2:59:49<3:15:53, 180.83s/it]"
     ]
    },
    {
     "name": "stdout",
     "output_type": "stream",
     "text": [
      "Скачал батч номер 56\n",
      "Сейчас у нас есть 13846 новостей\n",
      "Сделано 5 ошибок\n"
     ]
    },
    {
     "name": "stderr",
     "output_type": "stream",
     "text": [
      "\r",
      " 48%|████▊     | 58/122 [3:02:03<2:57:38, 166.53s/it]"
     ]
    },
    {
     "name": "stdout",
     "output_type": "stream",
     "text": [
      "Скачал батч номер 57\n",
      "Сейчас у нас есть 14089 новостей\n",
      "Сделано 5 ошибок\n"
     ]
    },
    {
     "name": "stderr",
     "output_type": "stream",
     "text": [
      "\r",
      " 48%|████▊     | 59/122 [3:05:20<3:04:39, 175.87s/it]"
     ]
    },
    {
     "name": "stdout",
     "output_type": "stream",
     "text": [
      "Скачал батч номер 58\n",
      "Сейчас у нас есть 14332 новостей\n",
      "Сделано 5 ошибок\n"
     ]
    },
    {
     "name": "stderr",
     "output_type": "stream",
     "text": [
      "\r",
      " 49%|████▉     | 60/122 [3:08:24<3:04:18, 178.36s/it]"
     ]
    },
    {
     "name": "stdout",
     "output_type": "stream",
     "text": [
      "Скачал батч номер 59\n",
      "Сейчас у нас есть 14574 новостей\n",
      "Сделано 6 ошибок\n"
     ]
    },
    {
     "name": "stderr",
     "output_type": "stream",
     "text": [
      "\r",
      " 50%|█████     | 61/122 [3:10:30<2:45:09, 162.46s/it]"
     ]
    },
    {
     "name": "stdout",
     "output_type": "stream",
     "text": [
      "Скачал батч номер 60\n",
      "Сейчас у нас есть 14816 новостей\n",
      "Сделано 7 ошибок\n"
     ]
    },
    {
     "name": "stderr",
     "output_type": "stream",
     "text": [
      "\r",
      " 51%|█████     | 62/122 [3:14:08<2:59:09, 179.15s/it]"
     ]
    },
    {
     "name": "stdout",
     "output_type": "stream",
     "text": [
      "Скачал батч номер 61\n",
      "Сейчас у нас есть 15059 новостей\n",
      "Сделано 7 ошибок\n"
     ]
    },
    {
     "name": "stderr",
     "output_type": "stream",
     "text": [
      "\r",
      " 52%|█████▏    | 63/122 [3:16:28<2:44:43, 167.52s/it]"
     ]
    },
    {
     "name": "stdout",
     "output_type": "stream",
     "text": [
      "Скачал батч номер 62\n",
      "Сейчас у нас есть 15302 новостей\n",
      "Сделано 7 ошибок\n"
     ]
    },
    {
     "name": "stderr",
     "output_type": "stream",
     "text": [
      "\r",
      " 52%|█████▏    | 64/122 [3:18:59<2:36:57, 162.37s/it]"
     ]
    },
    {
     "name": "stdout",
     "output_type": "stream",
     "text": [
      "Скачал батч номер 63\n",
      "Сейчас у нас есть 15545 новостей\n",
      "Сделано 7 ошибок\n"
     ]
    },
    {
     "name": "stderr",
     "output_type": "stream",
     "text": [
      "\r",
      " 53%|█████▎    | 65/122 [3:22:19<2:45:07, 173.82s/it]"
     ]
    },
    {
     "name": "stdout",
     "output_type": "stream",
     "text": [
      "Скачал батч номер 64\n",
      "Сейчас у нас есть 15788 новостей\n",
      "Сделано 7 ошибок\n"
     ]
    },
    {
     "name": "stderr",
     "output_type": "stream",
     "text": [
      "\r",
      " 54%|█████▍    | 66/122 [3:24:37<2:32:08, 163.01s/it]"
     ]
    },
    {
     "name": "stdout",
     "output_type": "stream",
     "text": [
      "Скачал батч номер 65\n",
      "Сейчас у нас есть 16031 новостей\n",
      "Сделано 7 ошибок\n"
     ]
    },
    {
     "name": "stderr",
     "output_type": "stream",
     "text": [
      "\r",
      " 55%|█████▍    | 67/122 [3:26:54<2:22:17, 155.22s/it]"
     ]
    },
    {
     "name": "stdout",
     "output_type": "stream",
     "text": [
      "Скачал батч номер 66\n",
      "Сейчас у нас есть 16274 новостей\n",
      "Сделано 7 ошибок\n"
     ]
    },
    {
     "name": "stderr",
     "output_type": "stream",
     "text": [
      "\r",
      " 56%|█████▌    | 68/122 [3:30:20<2:33:25, 170.48s/it]"
     ]
    },
    {
     "name": "stdout",
     "output_type": "stream",
     "text": [
      "Скачал батч номер 67\n",
      "Сейчас у нас есть 16517 новостей\n",
      "Сделано 7 ошибок\n"
     ]
    },
    {
     "name": "stderr",
     "output_type": "stream",
     "text": [
      "\r",
      " 57%|█████▋    | 69/122 [3:33:20<2:33:10, 173.41s/it]"
     ]
    },
    {
     "name": "stdout",
     "output_type": "stream",
     "text": [
      "Скачал батч номер 68\n",
      "Сейчас у нас есть 16760 новостей\n",
      "Сделано 7 ошибок\n"
     ]
    },
    {
     "name": "stderr",
     "output_type": "stream",
     "text": [
      "\r",
      " 57%|█████▋    | 70/122 [3:36:02<2:27:16, 169.92s/it]"
     ]
    },
    {
     "name": "stdout",
     "output_type": "stream",
     "text": [
      "Скачал батч номер 69\n",
      "Сейчас у нас есть 17003 новостей\n",
      "Сделано 7 ошибок\n"
     ]
    },
    {
     "name": "stderr",
     "output_type": "stream",
     "text": [
      "\r",
      " 58%|█████▊    | 71/122 [3:40:01<2:41:58, 190.56s/it]"
     ]
    },
    {
     "name": "stdout",
     "output_type": "stream",
     "text": [
      "Скачал батч номер 70\n",
      "Сейчас у нас есть 17246 новостей\n",
      "Сделано 7 ошибок\n"
     ]
    },
    {
     "name": "stderr",
     "output_type": "stream",
     "text": [
      "\r",
      " 59%|█████▉    | 72/122 [3:43:26<2:42:33, 195.07s/it]"
     ]
    },
    {
     "name": "stdout",
     "output_type": "stream",
     "text": [
      "Скачал батч номер 71\n",
      "Сейчас у нас есть 17489 новостей\n",
      "Сделано 7 ошибок\n"
     ]
    },
    {
     "name": "stderr",
     "output_type": "stream",
     "text": [
      "\r",
      " 60%|█████▉    | 73/122 [3:46:42<2:39:31, 195.33s/it]"
     ]
    },
    {
     "name": "stdout",
     "output_type": "stream",
     "text": [
      "Скачал батч номер 72\n",
      "Сейчас у нас есть 17732 новостей\n",
      "Сделано 7 ошибок\n"
     ]
    },
    {
     "name": "stderr",
     "output_type": "stream",
     "text": [
      "\r",
      " 61%|██████    | 74/122 [3:49:28<2:29:14, 186.56s/it]"
     ]
    },
    {
     "name": "stdout",
     "output_type": "stream",
     "text": [
      "Скачал батч номер 73\n",
      "Сейчас у нас есть 17975 новостей\n",
      "Сделано 7 ошибок\n"
     ]
    },
    {
     "name": "stderr",
     "output_type": "stream",
     "text": [
      "\r",
      " 61%|██████▏   | 75/122 [3:52:58<2:31:28, 193.37s/it]"
     ]
    },
    {
     "name": "stdout",
     "output_type": "stream",
     "text": [
      "Скачал батч номер 74\n",
      "Сейчас у нас есть 18218 новостей\n",
      "Сделано 7 ошибок\n"
     ]
    },
    {
     "name": "stderr",
     "output_type": "stream",
     "text": [
      "\r",
      " 62%|██████▏   | 76/122 [3:55:08<2:13:40, 174.36s/it]"
     ]
    },
    {
     "name": "stdout",
     "output_type": "stream",
     "text": [
      "Скачал батч номер 75\n",
      "Сейчас у нас есть 18461 новостей\n",
      "Сделано 7 ошибок\n"
     ]
    },
    {
     "name": "stderr",
     "output_type": "stream",
     "text": [
      "\r",
      " 63%|██████▎   | 77/122 [3:57:38<2:05:25, 167.23s/it]"
     ]
    },
    {
     "name": "stdout",
     "output_type": "stream",
     "text": [
      "Скачал батч номер 76\n",
      "Сейчас у нас есть 18704 новостей\n",
      "Сделано 7 ошибок\n"
     ]
    },
    {
     "name": "stderr",
     "output_type": "stream",
     "text": [
      "\r",
      " 64%|██████▍   | 78/122 [4:02:08<2:25:07, 197.90s/it]"
     ]
    },
    {
     "name": "stdout",
     "output_type": "stream",
     "text": [
      "Скачал батч номер 77\n",
      "Сейчас у нас есть 18947 новостей\n",
      "Сделано 7 ошибок\n"
     ]
    },
    {
     "name": "stderr",
     "output_type": "stream",
     "text": [
      "\r",
      " 65%|██████▍   | 79/122 [4:05:12<2:18:48, 193.68s/it]"
     ]
    },
    {
     "name": "stdout",
     "output_type": "stream",
     "text": [
      "Скачал батч номер 78\n",
      "Сейчас у нас есть 19189 новостей\n",
      "Сделано 8 ошибок\n"
     ]
    },
    {
     "name": "stderr",
     "output_type": "stream",
     "text": [
      "\r",
      " 66%|██████▌   | 80/122 [4:07:56<2:09:26, 184.92s/it]"
     ]
    },
    {
     "name": "stdout",
     "output_type": "stream",
     "text": [
      "Скачал батч номер 79\n",
      "Сейчас у нас есть 19432 новостей\n",
      "Сделано 8 ошибок\n"
     ]
    },
    {
     "name": "stderr",
     "output_type": "stream",
     "text": [
      "\r",
      " 66%|██████▋   | 81/122 [4:10:23<1:58:39, 173.64s/it]"
     ]
    },
    {
     "name": "stdout",
     "output_type": "stream",
     "text": [
      "Скачал батч номер 80\n",
      "Сейчас у нас есть 19675 новостей\n",
      "Сделано 8 ошибок\n"
     ]
    },
    {
     "name": "stderr",
     "output_type": "stream",
     "text": [
      "\r",
      " 67%|██████▋   | 82/122 [4:14:00<2:04:21, 186.53s/it]"
     ]
    },
    {
     "name": "stdout",
     "output_type": "stream",
     "text": [
      "Скачал батч номер 81\n",
      "Сейчас у нас есть 19918 новостей\n",
      "Сделано 8 ошибок\n"
     ]
    },
    {
     "name": "stderr",
     "output_type": "stream",
     "text": [
      "\r",
      " 68%|██████▊   | 83/122 [4:16:45<1:57:06, 180.17s/it]"
     ]
    },
    {
     "name": "stdout",
     "output_type": "stream",
     "text": [
      "Скачал батч номер 82\n",
      "Сейчас у нас есть 20161 новостей\n",
      "Сделано 8 ошибок\n"
     ]
    },
    {
     "name": "stderr",
     "output_type": "stream",
     "text": [
      "\r",
      " 69%|██████▉   | 84/122 [4:19:50<1:54:59, 181.57s/it]"
     ]
    },
    {
     "name": "stdout",
     "output_type": "stream",
     "text": [
      "Скачал батч номер 83\n",
      "Сейчас у нас есть 20404 новостей\n",
      "Сделано 8 ошибок\n"
     ]
    },
    {
     "name": "stderr",
     "output_type": "stream",
     "text": [
      "\r",
      " 70%|██████▉   | 85/122 [4:22:46<1:50:48, 179.69s/it]"
     ]
    },
    {
     "name": "stdout",
     "output_type": "stream",
     "text": [
      "Скачал батч номер 84\n",
      "Сейчас у нас есть 20647 новостей\n",
      "Сделано 8 ошибок\n"
     ]
    },
    {
     "name": "stderr",
     "output_type": "stream",
     "text": [
      "\r",
      " 70%|███████   | 86/122 [4:25:42<1:47:10, 178.63s/it]"
     ]
    },
    {
     "name": "stdout",
     "output_type": "stream",
     "text": [
      "Скачал батч номер 85\n",
      "Сейчас у нас есть 20890 новостей\n",
      "Сделано 8 ошибок\n"
     ]
    },
    {
     "name": "stderr",
     "output_type": "stream",
     "text": [
      "\r",
      " 71%|███████▏  | 87/122 [4:29:00<1:47:43, 184.67s/it]"
     ]
    },
    {
     "name": "stdout",
     "output_type": "stream",
     "text": [
      "Скачал батч номер 86\n",
      "Сейчас у нас есть 21133 новостей\n",
      "Сделано 8 ошибок\n"
     ]
    },
    {
     "name": "stderr",
     "output_type": "stream",
     "text": [
      "\r",
      " 72%|███████▏  | 88/122 [4:31:58<1:43:24, 182.49s/it]"
     ]
    },
    {
     "name": "stdout",
     "output_type": "stream",
     "text": [
      "Скачал батч номер 87\n",
      "Сейчас у нас есть 21376 новостей\n",
      "Сделано 8 ошибок\n"
     ]
    },
    {
     "name": "stderr",
     "output_type": "stream",
     "text": [
      "\r",
      " 73%|███████▎  | 89/122 [4:34:40<1:36:59, 176.35s/it]"
     ]
    },
    {
     "name": "stdout",
     "output_type": "stream",
     "text": [
      "Скачал батч номер 88\n",
      "Сейчас у нас есть 21618 новостей\n",
      "Сделано 9 ошибок\n"
     ]
    },
    {
     "name": "stderr",
     "output_type": "stream",
     "text": [
      "\r",
      " 74%|███████▍  | 90/122 [4:38:07<1:38:55, 185.50s/it]"
     ]
    },
    {
     "name": "stdout",
     "output_type": "stream",
     "text": [
      "Скачал батч номер 89\n",
      "Сейчас у нас есть 21861 новостей\n",
      "Сделано 9 ошибок\n"
     ]
    },
    {
     "name": "stderr",
     "output_type": "stream",
     "text": [
      "\r",
      " 75%|███████▍  | 91/122 [4:41:18<1:36:42, 187.18s/it]"
     ]
    },
    {
     "name": "stdout",
     "output_type": "stream",
     "text": [
      "Скачал батч номер 90\n",
      "Сейчас у нас есть 22104 новостей\n",
      "Сделано 9 ошибок\n"
     ]
    },
    {
     "name": "stderr",
     "output_type": "stream",
     "text": [
      "\r",
      " 75%|███████▌  | 92/122 [4:44:58<1:38:32, 197.07s/it]"
     ]
    },
    {
     "name": "stdout",
     "output_type": "stream",
     "text": [
      "Скачал батч номер 91\n",
      "Сейчас у нас есть 22347 новостей\n",
      "Сделано 9 ошибок\n"
     ]
    },
    {
     "name": "stderr",
     "output_type": "stream",
     "text": [
      "\r",
      " 76%|███████▌  | 93/122 [4:48:06<1:33:52, 194.22s/it]"
     ]
    },
    {
     "name": "stdout",
     "output_type": "stream",
     "text": [
      "Скачал батч номер 92\n",
      "Сейчас у нас есть 22590 новостей\n",
      "Сделано 9 ошибок\n"
     ]
    },
    {
     "name": "stderr",
     "output_type": "stream",
     "text": [
      "\r",
      " 77%|███████▋  | 94/122 [4:50:41<1:25:16, 182.74s/it]"
     ]
    },
    {
     "name": "stdout",
     "output_type": "stream",
     "text": [
      "Скачал батч номер 93\n",
      "Сейчас у нас есть 22832 новостей\n",
      "Сделано 10 ошибок\n"
     ]
    },
    {
     "name": "stderr",
     "output_type": "stream",
     "text": [
      "\r",
      " 78%|███████▊  | 95/122 [4:53:50<1:22:58, 184.40s/it]"
     ]
    },
    {
     "name": "stdout",
     "output_type": "stream",
     "text": [
      "Скачал батч номер 94\n",
      "Сейчас у нас есть 23075 новостей\n",
      "Сделано 10 ошибок\n"
     ]
    },
    {
     "name": "stderr",
     "output_type": "stream",
     "text": [
      "\r",
      " 79%|███████▊  | 96/122 [4:57:12<1:22:17, 189.90s/it]"
     ]
    },
    {
     "name": "stdout",
     "output_type": "stream",
     "text": [
      "Скачал батч номер 95\n",
      "Сейчас у нас есть 23318 новостей\n",
      "Сделано 10 ошибок\n"
     ]
    },
    {
     "name": "stderr",
     "output_type": "stream",
     "text": [
      "\r",
      " 80%|███████▉  | 97/122 [5:00:17<1:18:29, 188.38s/it]"
     ]
    },
    {
     "name": "stdout",
     "output_type": "stream",
     "text": [
      "Скачал батч номер 96\n",
      "Сейчас у нас есть 23561 новостей\n",
      "Сделано 10 ошибок\n"
     ]
    },
    {
     "name": "stderr",
     "output_type": "stream",
     "text": [
      "\r",
      " 80%|████████  | 98/122 [5:02:55<1:11:42, 179.25s/it]"
     ]
    },
    {
     "name": "stdout",
     "output_type": "stream",
     "text": [
      "Скачал батч номер 97\n",
      "Сейчас у нас есть 23804 новостей\n",
      "Сделано 10 ошибок\n"
     ]
    },
    {
     "name": "stderr",
     "output_type": "stream",
     "text": [
      "\r",
      " 81%|████████  | 99/122 [5:06:22<1:11:52, 187.50s/it]"
     ]
    },
    {
     "name": "stdout",
     "output_type": "stream",
     "text": [
      "Скачал батч номер 98\n",
      "Сейчас у нас есть 24047 новостей\n",
      "Сделано 10 ошибок\n"
     ]
    },
    {
     "name": "stderr",
     "output_type": "stream",
     "text": [
      "\r",
      " 82%|████████▏ | 100/122 [5:09:59<1:12:00, 196.38s/it]"
     ]
    },
    {
     "name": "stdout",
     "output_type": "stream",
     "text": [
      "Скачал батч номер 99\n",
      "Сейчас у нас есть 24290 новостей\n",
      "Сделано 10 ошибок\n"
     ]
    },
    {
     "name": "stderr",
     "output_type": "stream",
     "text": [
      "\r",
      " 83%|████████▎ | 101/122 [5:12:14<1:02:17, 178.00s/it]"
     ]
    },
    {
     "name": "stdout",
     "output_type": "stream",
     "text": [
      "Скачал батч номер 100\n",
      "Сейчас у нас есть 24533 новостей\n",
      "Сделано 10 ошибок\n"
     ]
    },
    {
     "name": "stderr",
     "output_type": "stream",
     "text": [
      "\r",
      " 84%|████████▎ | 102/122 [5:14:56<57:42, 173.10s/it]  "
     ]
    },
    {
     "name": "stdout",
     "output_type": "stream",
     "text": [
      "Скачал батч номер 101\n",
      "Сейчас у нас есть 24776 новостей\n",
      "Сделано 10 ошибок\n"
     ]
    },
    {
     "name": "stderr",
     "output_type": "stream",
     "text": [
      "\r",
      " 84%|████████▍ | 103/122 [5:18:06<56:27, 178.29s/it]"
     ]
    },
    {
     "name": "stdout",
     "output_type": "stream",
     "text": [
      "Скачал батч номер 102\n",
      "Сейчас у нас есть 25019 новостей\n",
      "Сделано 10 ошибок\n"
     ]
    },
    {
     "name": "stderr",
     "output_type": "stream",
     "text": [
      "\r",
      " 85%|████████▌ | 104/122 [5:21:21<54:58, 183.23s/it]"
     ]
    },
    {
     "name": "stdout",
     "output_type": "stream",
     "text": [
      "Скачал батч номер 103\n",
      "Сейчас у нас есть 25261 новостей\n",
      "Сделано 11 ошибок\n"
     ]
    },
    {
     "name": "stderr",
     "output_type": "stream",
     "text": [
      "\r",
      " 86%|████████▌ | 105/122 [5:24:04<50:11, 177.17s/it]"
     ]
    },
    {
     "name": "stdout",
     "output_type": "stream",
     "text": [
      "Скачал батч номер 104\n",
      "Сейчас у нас есть 25504 новостей\n",
      "Сделано 11 ошибок\n"
     ]
    },
    {
     "name": "stderr",
     "output_type": "stream",
     "text": [
      "\r",
      " 87%|████████▋ | 106/122 [5:26:50<46:21, 173.87s/it]"
     ]
    },
    {
     "name": "stdout",
     "output_type": "stream",
     "text": [
      "Скачал батч номер 105\n",
      "Сейчас у нас есть 25747 новостей\n",
      "Сделано 11 ошибок\n"
     ]
    },
    {
     "name": "stderr",
     "output_type": "stream",
     "text": [
      "\r",
      " 88%|████████▊ | 107/122 [5:30:29<46:49, 187.28s/it]"
     ]
    },
    {
     "name": "stdout",
     "output_type": "stream",
     "text": [
      "Скачал батч номер 106\n",
      "Сейчас у нас есть 25990 новостей\n",
      "Сделано 11 ошибок\n"
     ]
    },
    {
     "name": "stderr",
     "output_type": "stream",
     "text": [
      "\r",
      " 89%|████████▊ | 108/122 [5:33:11<41:55, 179.70s/it]"
     ]
    },
    {
     "name": "stdout",
     "output_type": "stream",
     "text": [
      "Скачал батч номер 107\n",
      "Сейчас у нас есть 26232 новостей\n",
      "Сделано 12 ошибок\n"
     ]
    },
    {
     "name": "stderr",
     "output_type": "stream",
     "text": [
      "\r",
      " 89%|████████▉ | 109/122 [5:36:25<39:52, 184.04s/it]"
     ]
    },
    {
     "name": "stdout",
     "output_type": "stream",
     "text": [
      "Скачал батч номер 108\n",
      "Сейчас у нас есть 26475 новостей\n",
      "Сделано 12 ошибок\n"
     ]
    },
    {
     "name": "stderr",
     "output_type": "stream",
     "text": [
      "\r",
      " 90%|█████████ | 110/122 [5:38:50<34:26, 172.24s/it]"
     ]
    },
    {
     "name": "stdout",
     "output_type": "stream",
     "text": [
      "Скачал батч номер 109\n",
      "Сейчас у нас есть 26718 новостей\n",
      "Сделано 12 ошибок\n"
     ]
    },
    {
     "name": "stderr",
     "output_type": "stream",
     "text": [
      "\r",
      " 91%|█████████ | 111/122 [5:41:48<31:55, 174.12s/it]"
     ]
    },
    {
     "name": "stdout",
     "output_type": "stream",
     "text": [
      "Скачал батч номер 110\n",
      "Сейчас у нас есть 26961 новостей\n",
      "Сделано 12 ошибок\n"
     ]
    },
    {
     "name": "stderr",
     "output_type": "stream",
     "text": [
      "\r",
      " 92%|█████████▏| 112/122 [5:44:25<28:09, 168.95s/it]"
     ]
    },
    {
     "name": "stdout",
     "output_type": "stream",
     "text": [
      "Скачал батч номер 111\n",
      "Сейчас у нас есть 27204 новостей\n",
      "Сделано 12 ошибок\n"
     ]
    },
    {
     "name": "stderr",
     "output_type": "stream",
     "text": [
      "\r",
      " 93%|█████████▎| 113/122 [5:47:14<25:19, 168.86s/it]"
     ]
    },
    {
     "name": "stdout",
     "output_type": "stream",
     "text": [
      "Скачал батч номер 112\n",
      "Сейчас у нас есть 27447 новостей\n",
      "Сделано 12 ошибок\n"
     ]
    },
    {
     "name": "stderr",
     "output_type": "stream",
     "text": [
      "\r",
      " 93%|█████████▎| 114/122 [5:49:57<22:17, 167.17s/it]"
     ]
    },
    {
     "name": "stdout",
     "output_type": "stream",
     "text": [
      "Скачал батч номер 113\n",
      "Сейчас у нас есть 27690 новостей\n",
      "Сделано 12 ошибок\n"
     ]
    },
    {
     "name": "stderr",
     "output_type": "stream",
     "text": [
      "\r",
      " 94%|█████████▍| 115/122 [5:52:38<19:18, 165.45s/it]"
     ]
    },
    {
     "name": "stdout",
     "output_type": "stream",
     "text": [
      "Скачал батч номер 114\n",
      "Сейчас у нас есть 27933 новостей\n",
      "Сделано 12 ошибок\n"
     ]
    },
    {
     "name": "stderr",
     "output_type": "stream",
     "text": [
      "\r",
      " 95%|█████████▌| 116/122 [5:55:22<16:28, 164.77s/it]"
     ]
    },
    {
     "name": "stdout",
     "output_type": "stream",
     "text": [
      "Скачал батч номер 115\n",
      "Сейчас у нас есть 28176 новостей\n",
      "Сделано 12 ошибок\n"
     ]
    },
    {
     "name": "stderr",
     "output_type": "stream",
     "text": [
      "\r",
      " 96%|█████████▌| 117/122 [5:58:23<14:08, 169.68s/it]"
     ]
    },
    {
     "name": "stdout",
     "output_type": "stream",
     "text": [
      "Скачал батч номер 116\n",
      "Сейчас у нас есть 28419 новостей\n",
      "Сделано 12 ошибок\n"
     ]
    },
    {
     "name": "stderr",
     "output_type": "stream",
     "text": [
      "\r",
      " 97%|█████████▋| 118/122 [6:02:00<12:15, 183.90s/it]"
     ]
    },
    {
     "name": "stdout",
     "output_type": "stream",
     "text": [
      "Скачал батч номер 117\n",
      "Сейчас у нас есть 28661 новостей\n",
      "Сделано 13 ошибок\n"
     ]
    },
    {
     "name": "stderr",
     "output_type": "stream",
     "text": [
      "\r",
      " 98%|█████████▊| 119/122 [6:04:50<08:59, 179.84s/it]"
     ]
    },
    {
     "name": "stdout",
     "output_type": "stream",
     "text": [
      "Скачал батч номер 118\n",
      "Сейчас у нас есть 28904 новостей\n",
      "Сделано 13 ошибок\n"
     ]
    },
    {
     "name": "stderr",
     "output_type": "stream",
     "text": [
      "\r",
      " 98%|█████████▊| 120/122 [6:07:31<05:48, 174.06s/it]"
     ]
    },
    {
     "name": "stdout",
     "output_type": "stream",
     "text": [
      "Скачал батч номер 119\n",
      "Сейчас у нас есть 29147 новостей\n",
      "Сделано 13 ошибок\n"
     ]
    },
    {
     "name": "stderr",
     "output_type": "stream",
     "text": [
      "\r",
      " 99%|█████████▉| 121/122 [6:10:51<03:01, 181.87s/it]"
     ]
    },
    {
     "name": "stdout",
     "output_type": "stream",
     "text": [
      "Скачал батч номер 120\n",
      "Сейчас у нас есть 29390 новостей\n",
      "Сделано 13 ошибок\n"
     ]
    },
    {
     "name": "stderr",
     "output_type": "stream",
     "text": [
      "100%|██████████| 122/122 [6:15:35<00:00, 184.72s/it]"
     ]
    },
    {
     "name": "stdout",
     "output_type": "stream",
     "text": [
      "Скачал батч номер 121\n",
      "Сейчас у нас есть 29790 новостей\n",
      "Сделано 14 ошибок\n"
     ]
    },
    {
     "name": "stderr",
     "output_type": "stream",
     "text": [
      "\n"
     ]
    }
   ],
   "source": [
    "i = 0\n",
    "\n",
    "x_batch = Separator(x_2020, 500)\n",
    "\n",
    "result = [ ]\n",
    "for batch in tqdm(x_batch[(198 + 180):]):\n",
    "    \n",
    "    n_jobs = 2 # параллелим на все ядра\n",
    "    result_cur = Parallel(n_jobs=n_jobs)(delayed(get_ria_news)(\n",
    "        text) for text in batch)\n",
    "\n",
    "    print('Скачал батч номер ' + str(i))\n",
    "    i += 1\n",
    "    result.extend(result_cur)\n",
    "\n",
    "    clean = [itog for itog in result if len(itog.keys()) == 13]\n",
    "    print('Сейчас у нас есть ' + str(len(clean)) +' новостей')\n",
    "\n",
    "    bad = [itog for itog in result if len(itog.keys()) < 13]\n",
    "    print('Сделано ' + str(len(bad)) +' ошибок')"
   ]
  },
  {
   "cell_type": "code",
   "execution_count": 14,
   "metadata": {},
   "outputs": [
    {
     "data": {
      "text/plain": [
       "29804"
      ]
     },
     "execution_count": 14,
     "metadata": {},
     "output_type": "execute_result"
    }
   ],
   "source": [
    "len(result)"
   ]
  },
  {
   "cell_type": "code",
   "execution_count": 15,
   "metadata": {},
   "outputs": [
    {
     "name": "stdout",
     "output_type": "stream",
     "text": [
      "Сейчас у нас есть 0 новостей\n",
      "Сделано 29804 ошибок\n"
     ]
    }
   ],
   "source": [
    "clean = [itog for itog in result if len(itog.keys()) == 14]\n",
    "print('Сейчас у нас есть ' + str(len(clean)) +' новостей')\n",
    "\n",
    "bad = [itog for itog in result if len(itog.keys()) < 14]\n",
    "print('Сделано ' + str(len(bad)) +' ошибок')"
   ]
  },
  {
   "cell_type": "code",
   "execution_count": 16,
   "metadata": {},
   "outputs": [
    {
     "name": "stdout",
     "output_type": "stream",
     "text": [
      "\u001b[1m\u001b[34m1.rbc\u001b[m\u001b[m                      ria_news_new_part1.pickle\r\n",
      "\u001b[1m\u001b[34m2.lenta\u001b[m\u001b[m                    ria_news_new_part2.pickle\r\n",
      "\u001b[1m\u001b[34m3.interfax\u001b[m\u001b[m                 tass_news_new_part1.pickle\r\n",
      "\u001b[1m\u001b[34m4.tass\u001b[m\u001b[m                     tass_news_new_part2.pickle\r\n",
      "\u001b[1m\u001b[34m5.ria\u001b[m\u001b[m                      tass_titles_new.pickle\r\n",
      "pickle_splitter.ipynb\r\n"
     ]
    }
   ],
   "source": [
    "!ls news_data/"
   ]
  },
  {
   "cell_type": "code",
   "execution_count": 17,
   "metadata": {},
   "outputs": [],
   "source": [
    "with open('news_data/ria_news_new_part3.pickle', 'wb') as f:\n",
    "    pickle.dump(result, f)"
   ]
  },
  {
   "cell_type": "markdown",
   "metadata": {},
   "source": [
    " "
   ]
  }
 ],
 "metadata": {
  "kernelspec": {
   "display_name": "Python 3",
   "language": "python",
   "name": "python3"
  },
  "language_info": {
   "codemirror_mode": {
    "name": "ipython",
    "version": 3
   },
   "file_extension": ".py",
   "mimetype": "text/x-python",
   "name": "python",
   "nbconvert_exporter": "python",
   "pygments_lexer": "ipython3",
   "version": "3.9.0"
  }
 },
 "nbformat": 4,
 "nbformat_minor": 2
}
