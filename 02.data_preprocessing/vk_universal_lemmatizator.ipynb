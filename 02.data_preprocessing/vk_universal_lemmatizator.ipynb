{
 "cells": [
  {
   "cell_type": "markdown",
   "metadata": {},
   "source": [
    "# Vk text lemmatization and cleaning"
   ]
  },
  {
   "cell_type": "code",
   "execution_count": 1,
   "metadata": {},
   "outputs": [],
   "source": [
    "import pandas as pd\n",
    "import numpy as np\n",
    "\n",
    "import pickle\n",
    "import datetime\n",
    "\n",
    "import matplotlib\n",
    "from matplotlib import pyplot as plt\n",
    "import matplotlib.patches as mpatches\n",
    "matplotlib.style.use('ggplot')\n",
    "\n",
    "%matplotlib inline\n",
    "\n",
    "# https://rusvectores.org/ru/models/"
   ]
  },
  {
   "cell_type": "code",
   "execution_count": 2,
   "metadata": {},
   "outputs": [],
   "source": [
    "import requests\n",
    "from tqdm import tqdm\n",
    "\n",
    "from pymystem3 import Mystem\n",
    "m = Mystem(entire_input=False)\n",
    "\n",
    "# Table of conversion of Mystem tags to UPoS tags:\n",
    "mapping_url = 'https://raw.githubusercontent.com/akutuzov/universal-pos-tags/4653e8a9154e93fe2f417c7fdb7a357b7d6ce333/ru-rnc.map'\n",
    "\n",
    "mystem2upos = {}\n",
    "r = requests.get(mapping_url, stream=True)\n",
    "for pair in r.text.split('\\n'):\n",
    "    pair = pair.split()\n",
    "    if len(pair) > 1:\n",
    "        mystem2upos[pair[0]] = pair[1]\n",
    "\n",
    "\n",
    "def tag_mystem(text='The text must be passed to the function as a string!', mapping=None, postags=True):\n",
    "    processed = m.analyze(text)\n",
    "    tagged = []\n",
    "    for w in processed:\n",
    "        try:\n",
    "            lemma = w[\"analysis\"][0][\"lex\"].lower().strip()\n",
    "            pos = w[\"analysis\"][0][\"gr\"].split(',')[0]\n",
    "            pos = pos.split('=')[0].strip()\n",
    "            if mapping:\n",
    "                if pos in mapping:\n",
    "                    pos = mapping[pos]\n",
    "                else:\n",
    "                    pos = 'X'\n",
    "            tagged.append(lemma.lower() + '_' + pos)\n",
    "        except:\n",
    "            continue\n",
    "    if not postags:\n",
    "        tagged = [t.split('_')[0] for t in tagged]\n",
    "    return tagged"
   ]
  },
  {
   "cell_type": "code",
   "execution_count": 9,
   "metadata": {},
   "outputs": [
    {
     "name": "stdout",
     "output_type": "stream",
     "text": [
      "interfax_vk_posts  lentach_1_vk_posts rbc_vk_posts       rt_vk_posts\r\n",
      "komersant_vk_posts lentach_2_vk_posts rg_vk_posts        tass_vk_posts\r\n",
      "lenta_vk_posts     meduza_vk_posts    ria_vk_posts       vedomosty_vk_posts\r\n"
     ]
    }
   ],
   "source": [
    "!ls ../news_parser/news_data/vk_news/posts"
   ]
  },
  {
   "cell_type": "code",
   "execution_count": 10,
   "metadata": {},
   "outputs": [],
   "source": [
    "files = !ls ../news_parser/news_data/vk_news/posts"
   ]
  },
  {
   "cell_type": "code",
   "execution_count": 16,
   "metadata": {},
   "outputs": [],
   "source": [
    "path = \"../news_parser/news_data/vk_news//posts/\"\n",
    "\n",
    "sources = ['interfax', 'komersant', 'lenta', 'lentach_1', 'lentach_2', \n",
    "           'meduza', 'rbc', 'rg', 'ria', 'rt', 'tass', 'vedomosty']"
   ]
  },
  {
   "cell_type": "code",
   "execution_count": 17,
   "metadata": {
    "scrolled": true
   },
   "outputs": [
    {
     "name": "stderr",
     "output_type": "stream",
     "text": [
      "100%|██████████| 63083/63083 [01:39<00:00, 634.94it/s] \n",
      "100%|██████████| 160191/160191 [05:45<00:00, 463.21it/s]\n",
      "100%|██████████| 128490/128490 [03:13<00:00, 664.44it/s]\n",
      "100%|██████████| 30515/30515 [00:58<00:00, 518.82it/s]\n",
      "100%|██████████| 21992/21992 [00:35<00:00, 625.66it/s]\n",
      "100%|██████████| 62753/62753 [02:31<00:00, 413.89it/s]\n",
      "100%|██████████| 65806/65806 [02:11<00:00, 501.13it/s]\n",
      "100%|██████████| 214262/214262 [03:11<00:00, 1117.63it/s]\n",
      "100%|██████████| 63477/63477 [01:11<00:00, 884.62it/s] \n",
      "100%|██████████| 119909/119909 [01:43<00:00, 1158.33it/s]\n",
      "100%|██████████| 171693/171693 [05:14<00:00, 545.35it/s]\n",
      "100%|██████████| 81995/81995 [02:14<00:00, 611.42it/s] \n"
     ]
    }
   ],
   "source": [
    "result = [ ]\n",
    "for name in sources:\n",
    "    \n",
    "    # Loading posts\n",
    "    file = name + '_vk_posts'\n",
    "\n",
    "    with open(path + file, 'rb') as f:\n",
    "        posts = pickle.load(f)\n",
    "\n",
    "    cur_result = [ ]\n",
    "    for line in tqdm(posts):\n",
    "        if 'text' in line:\n",
    "            line[\"text_tagged\"] = tag_mystem(text=line[\"text\"].strip(), mapping=mystem2upos)\n",
    "        else:\n",
    "            line[\"text_tagged\"] = ['']\n",
    "\n",
    "        if 'title' in line:\n",
    "            line[\"title_tagged\"] = tag_mystem(text=line[\"title\"].strip(), mapping=mystem2upos) \n",
    "        else:\n",
    "            line['title_tagged'] = ['']\n",
    "\n",
    "        line['source'] = file\n",
    "        cur_result.append(line)\n",
    "          \n",
    "    result.extend(cur_result)"
   ]
  },
  {
   "cell_type": "code",
   "execution_count": 18,
   "metadata": {},
   "outputs": [
    {
     "data": {
      "text/plain": [
       "1184166"
      ]
     },
     "execution_count": 18,
     "metadata": {},
     "output_type": "execute_result"
    }
   ],
   "source": [
    "len(result)"
   ]
  },
  {
   "cell_type": "code",
   "execution_count": 19,
   "metadata": {},
   "outputs": [],
   "source": [
    "with open(path + 'vk_posts_tag_lemm.pickle', 'wb') as f:\n",
    "    pickle.dump(result, f)   "
   ]
  },
  {
   "cell_type": "markdown",
   "metadata": {},
   "source": [
    " "
   ]
  }
 ],
 "metadata": {
  "kernelspec": {
   "display_name": "Python 3",
   "language": "python",
   "name": "python3"
  },
  "language_info": {
   "codemirror_mode": {
    "name": "ipython",
    "version": 3
   },
   "file_extension": ".py",
   "mimetype": "text/x-python",
   "name": "python",
   "nbconvert_exporter": "python",
   "pygments_lexer": "ipython3",
   "version": "3.9.0"
  }
 },
 "nbformat": 4,
 "nbformat_minor": 2
}
